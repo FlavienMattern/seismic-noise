{
 "cells": [
  {
   "cell_type": "markdown",
   "metadata": {},
   "source": [
    "\n",
    "\n",
    "# VARIATIONS TEMPORELLES DU BRUIT EN ANTARCTIQUE"
   ]
  },
  {
   "cell_type": "markdown",
   "metadata": {},
   "source": [
    "---\n",
    "\n",
    "**Description du Notebook :**\n",
    "> Dans ce notebook est étudié comment le bruit sismique à évolué avec les différentes mesures sanitaires mises en place par le gouvernement.\n"
   ]
  },
  {
   "cell_type": "markdown",
   "metadata": {},
   "source": [
    "---\n",
    "# Importation des modules"
   ]
  },
  {
   "cell_type": "code",
   "execution_count": 1,
   "metadata": {},
   "outputs": [],
   "source": [
    "%matplotlib inline\n",
    "\n",
    "import datetime\n",
    "import os\n",
    "from glob import glob\n",
    "\n",
    "import matplotlib.pyplot as plt\n",
    "import matplotlib.ticker as ticker\n",
    "import matplotlib.patheffects as pe\n",
    "from mpl_toolkits.axes_grid1 import make_axes_locatable\n",
    "import numpy as np\n",
    "import pandas as pd\n",
    "import tqdm.notebook as tqdm\n",
    "import warnings\n",
    "\n",
    "from obspy import UTCDateTime, read\n",
    "from obspy.clients.fdsn import Client\n",
    "from obspy.clients.fdsn.client import FDSNNoDataException\n",
    "from obspy.signal import PPSD\n",
    "\n",
    "%load_ext autoreload\n",
    "%autoreload 2\n",
    "from seismic_noise import *\n",
    "import seismosocialdistancing"
   ]
  },
  {
   "cell_type": "markdown",
   "metadata": {},
   "source": [
    "---\n",
    "# 1. Récupération des données"
   ]
  },
  {
   "cell_type": "markdown",
   "metadata": {},
   "source": [
    "### Paramètres initiaux"
   ]
  },
  {
   "cell_type": "code",
   "execution_count": 2,
   "metadata": {},
   "outputs": [],
   "source": [
    "### Paramètres généraux\n",
    "load_data = False              # Recalculer les PPSDs et le déplacement RMS\n",
    "freqs = [(2.0,8.0)]          # Bandes de fréquences à étudier \n",
    "st_file = \"DATA/st_metadata/stations_antarctic.txt\"  # Fichier de stations\n",
    "path = \"C:/Users/minid/Documents/Travail\"\n",
    "noise_input_data = \"B:/SeismicNoiseData/\"\n",
    "timeseries_data = \"Files/noise_timeseries/\"\n",
    "PPSD_FOLDER  = path + \"/PPSD\"\n",
    "DRMS_FOLDER  = path + \"/DRMS\"\n",
    "MSEED_FOLDER = path + \"/MSEED\"\n",
    "FIG_FOLDER = \"RESULTS\"\n",
    "tStart = \"2010-12-01\"\n",
    "tEnd = \"2021-09-04\"\n",
    "\n",
    "### Conversion des périodes en UTCDateTime\n",
    "periods = [[UTCDateTime(tStart), UTCDateTime(tEnd)]]"
   ]
  },
  {
   "cell_type": "markdown",
   "metadata": {},
   "source": [
    "### Récupération des PPSDs et du déplacement RMS"
   ]
  },
  {
   "cell_type": "code",
   "execution_count": 3,
   "metadata": {},
   "outputs": [],
   "source": [
    "st_name = np.loadtxt(st_file, dtype=str)\n",
    "st_name = [\"G.CCD.00.BHZ_2_8Hz\"]   # Station à étudier\n",
    "dRMS = {}\n",
    "for st_str in st_name:\n",
    "    try:\n",
    "        dataframe = pd.read_csv(\"{}/{}.csv\".format(DRMS_FOLDER, st_str), index_col=0)\n",
    "        dRMS[st_str] = dataframe\n",
    "    except:\n",
    "        pass\n",
    "st_name = list(dRMS.keys())"
   ]
  },
  {
   "cell_type": "code",
   "execution_count": 4,
   "metadata": {},
   "outputs": [
    {
     "data": {
      "text/plain": [
       "dict_keys(['G.CCD.00.BHZ_2_8Hz'])"
      ]
     },
     "execution_count": 4,
     "metadata": {},
     "output_type": "execute_result"
    }
   ],
   "source": [
    "dRMS.keys()"
   ]
  },
  {
   "cell_type": "code",
   "execution_count": 5,
   "metadata": {},
   "outputs": [],
   "source": [
    "freq=\"2.0-8.0\"\n",
    "noise = dRMS[st_str][freq]\n",
    "t, h, noise_matrix = hourly_var(noise, periods)\n",
    "\n"
   ]
  },
  {
   "cell_type": "code",
   "execution_count": 6,
   "metadata": {},
   "outputs": [
    {
     "name": "stdout",
     "output_type": "stream",
     "text": [
      "48\n"
     ]
    }
   ],
   "source": [
    "print(len(noise_matrix))"
   ]
  },
  {
   "cell_type": "markdown",
   "metadata": {},
   "source": [
    "---\n",
    "# 2. Variations horaires du bruit"
   ]
  },
  {
   "cell_type": "markdown",
   "metadata": {},
   "source": [
    "## 2.1 Calcul de variations sur toute la période donnée"
   ]
  },
  {
   "cell_type": "markdown",
   "metadata": {},
   "source": [
    "#### Tags à afficher sur le graphique"
   ]
  },
  {
   "cell_type": "code",
   "execution_count": 7,
   "metadata": {},
   "outputs": [],
   "source": [
    "#décalage horaire été CCD\n",
    "deca_hor=7\n",
    "\n",
    "#décalage horaire été DRV\n",
    "#deca_hor=10\n",
    "\n",
    "#indice pour concatener la matrice pour prendre en compte le décalage horaire\n",
    "indice=48-deca_hor*2\n"
   ]
  },
  {
   "cell_type": "markdown",
   "metadata": {},
   "source": [
    "## 2.2 Calcul de variations horaires sur plusieurs sous-périodes"
   ]
  },
  {
   "cell_type": "code",
   "execution_count": 8,
   "metadata": {},
   "outputs": [],
   "source": [
    "#print(dRMS)"
   ]
  },
  {
   "cell_type": "code",
   "execution_count": null,
   "metadata": {
    "scrolled": false
   },
   "outputs": [],
   "source": [
    "### Paramètres à changer\n",
    "freq = \"2.0-8.0\"\n",
    "st_name = \"G.CCD.00.BHZ_2_8Hz\"\n",
    "periods = [[[UTCDateTime(\"2020-11-01\"),UTCDateTime(\"2021-02-01\")]],\\\n",
    "           [[UTCDateTime(\"2020-11-08\"),UTCDateTime(\"2020-11-09\")]],\\\n",
    "           [[UTCDateTime(\"2020-12-25\"),UTCDateTime(\"2020-12-26\")],[UTCDateTime(\"2019-12-25\"),UTCDateTime(\"2019-12-26\")],[UTCDateTime(\"2018-12-25\"),UTCDateTime(\"2018-12-26\")],[UTCDateTime(\"2017-12-25\"),UTCDateTime(\"2017-12-26\")],[UTCDateTime(\"2016-12-25\"),UTCDateTime(\"2016-12-26\")],[UTCDateTime(\"2015-12-25\"),UTCDateTime(\"2015-12-26\")],[UTCDateTime(\"2014-12-25\"),UTCDateTime(\"2014-12-26\")],[UTCDateTime(\"2013-12-25\"),UTCDateTime(\"2013-12-26\")],[UTCDateTime(\"2012-12-25\"),UTCDateTime(\"2012-12-26\")]],\\\n",
    "           [[UTCDateTime(\"2020-12-24\"),UTCDateTime(\"2020-12-25\")],[UTCDateTime(\"2019-12-24\"),UTCDateTime(\"2019-12-25\")],[UTCDateTime(\"2018-12-24\"),UTCDateTime(\"2018-12-25\")],[UTCDateTime(\"2017-12-24\"),UTCDateTime(\"2017-12-25\")],[UTCDateTime(\"2016-12-24\"),UTCDateTime(\"2016-12-25\")],[UTCDateTime(\"2015-12-24\"),UTCDateTime(\"2015-12-25\")],[UTCDateTime(\"2014-12-24\"),UTCDateTime(\"2014-12-25\")],[UTCDateTime(\"2013-12-24\"),UTCDateTime(\"2013-12-25\")],[UTCDateTime(\"2012-12-24\"),UTCDateTime(\"2012-12-25\")]],\\\n",
    "           [[UTCDateTime(\"2017-12-31\"),UTCDateTime(\"2018-01-01\")]],\\\n",
    "           [[UTCDateTime(\"2019-12-03\"),UTCDateTime(\"2019-12-04\")]]]\n",
    "\n",
    "\n",
    "new_median=[]\n",
    "\n",
    "for i in periods :\n",
    "    if len(i)<=1:\n",
    "        name = \"{}{}_{}\".format(st_name, i[0][0].strftime('%Y-%m-%d'), i[0][1].strftime('%Y-%m-%d'))\n",
    "        noise = dRMS[st_name][freq]\n",
    "        t, h, noise_matrix = hourly_var(noise, i)\n",
    "        median1 = np.nanmedian(noise_matrix, axis=1)\n",
    "        new_median.append(median1.tolist()[indice:] + median1.tolist()[0:indice])\n",
    "\n",
    "    else :\n",
    "        n=[]\n",
    "        for v in i:\n",
    "            noise = dRMS[st_name][freq]\n",
    "            t, h, noise_matrix_inter = hourly_var(noise, [v])\n",
    "            n.append(noise_matrix_inter)\n",
    "    \n",
    "        noise_matrix=np.concatenate((n[0],n[1]),axis=1)\n",
    "        for k in range (1,len(n)-1):\n",
    "            noise_matrix=np.concatenate((noise_matrix,n[k+1]),axis=1)                                   \n",
    "        median1 = np.nanmedian(noise_matrix, axis=1)\n",
    "        new_median.append(median1.tolist()[indice:] + median1.tolist()[0:indice])\n",
    "        \n",
    "\n",
    "plt.rcParams['figure.figsize'] = 20, 10\n",
    "plt.rcParams[\"axes.facecolor\"] = 'w'\n",
    "plt.rcParams.update({'font.size': 22})\n",
    "plt.title('Hourly displacement comparison (2-8Hz)')\n",
    "plt.xlabel('Hours')\n",
    "plt.ylabel('Displacement (log(m))' )\n",
    "liste=('Summer','Day off','Christmas 25','Christmas 24','New Year 31','Raid')\n",
    "ind=0\n",
    "for i in new_median :\n",
    "    plt.yscale('log')\n",
    "    plt.plot(h,i,label=liste[ind])\n",
    "    ind=ind+1\n",
    "\n",
    "plt.xticks(np.arange(0, 24, 1), np.arange(0, 24, 1))\n",
    "plt.grid()\n",
    "plt.legend(fontsize=22)\n",
    "plt.show()\n",
    "print(type(median1))"
   ]
  },
  {
   "cell_type": "code",
   "execution_count": null,
   "metadata": {},
   "outputs": [],
   "source": [
    "tStart = '2021-01-01'\n",
    "tEnd = '2021-01-30'\n",
    "\n",
    "st_str = str('G.CCD.00.BHZ')\n",
    "\n",
    "ppsds = PPSD.load_npz(\"{}/{}/{}_{}.npz\".format(PPSD_FOLDER, st_str,tStart,st_str))\n",
    "datelist = pd.date_range(start=UTCDateTime(tStart).datetime,end=UTCDateTime(tEnd).datetime)\n",
    "\n",
    "for day in datelist:\n",
    "    datestr = day.strftime(\"%Y-%m-%d\")\n",
    "    ppsds.add_npz(\"{}/{}/{}_{}.npz\".format(PPSD_FOLDER, st_str,datestr,st_str))\n",
    "    \n",
    "    \n",
    "ppsds.plot_spectrogram(clim=(-160,-100))"
   ]
  },
  {
   "cell_type": "code",
   "execution_count": null,
   "metadata": {},
   "outputs": [],
   "source": []
  }
 ],
 "metadata": {
  "celltoolbar": "Format de la Cellule Texte Brut",
  "kernelspec": {
   "display_name": "Python 3 (ipykernel)",
   "language": "python",
   "name": "python3"
  },
  "language_info": {
   "codemirror_mode": {
    "name": "ipython",
    "version": 3
   },
   "file_extension": ".py",
   "mimetype": "text/x-python",
   "name": "python",
   "nbconvert_exporter": "python",
   "pygments_lexer": "ipython3",
   "version": "3.7.10"
  }
 },
 "nbformat": 4,
 "nbformat_minor": 4
}
