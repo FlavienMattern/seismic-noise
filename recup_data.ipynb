{
 "cells": [
  {
   "cell_type": "markdown",
   "id": "9ac5f36f",
   "metadata": {},
   "source": [
    "# Récupération/Traitement des données de formes d'ondes"
   ]
  },
  {
   "cell_type": "markdown",
   "id": "2dc28bf9",
   "metadata": {},
   "source": [
    "> Ce Notebook présente la récupération des formes d'ondes pour le calcul des PPSDs et du déplacement RMS."
   ]
  },
  {
   "cell_type": "markdown",
   "id": "c58deed2",
   "metadata": {},
   "source": [
    "---\n",
    "## Importation des modules"
   ]
  },
  {
   "cell_type": "code",
   "execution_count": 1,
   "id": "5a4ad667",
   "metadata": {},
   "outputs": [],
   "source": [
    "import glob, os\n",
    "import numpy as np\n",
    "import pandas as pd\n",
    "import warnings\n",
    "import datetime\n",
    "import sys\n",
    "from obspy import UTCDateTime, read\n",
    "from obspy.clients.fdsn import Client\n",
    "from obspy.clients.fdsn.client import FDSNNoDataException\n",
    "from obspy.signal import PPSD\n",
    "from seismic_noise import download_noise, process_PPSD, load_PPSD, process_DRMS\n",
    "import urllib.request\n",
    "import zipfile"
   ]
  },
  {
   "cell_type": "markdown",
   "id": "284dda33",
   "metadata": {},
   "source": [
    "---\n",
    "## Paramètre initiaux"
   ]
  },
  {
   "cell_type": "code",
   "execution_count": 2,
   "id": "cdcb2371",
   "metadata": {},
   "outputs": [],
   "source": [
    "time_zone = \"Europe/Brussels\"      # Format d'heure\n",
    "dl_noise = False                   # Téléchargement des données\n",
    "dl_PPSD = False                     # Téléchargement des PPSDs\n",
    "proc_PPSD = False                  # Calcul des PPSDs\n",
    "proc_DRMS = True                  # Calcul du déplacement RMS\n",
    "delete_MSEED = False               # Suppression des fichiers MSEED\n",
    "PPSD_FOLDER  = \"C:/Users/Arnaud/Desktop/Seismic_noise/PDR/SeismicNoiseData/PPSD\"\n",
    "DRMS_FOLDER  = \"C:/Users/Arnaud/Desktop/Seismic_noise/PDR/SeismicNoiseData/DRMS\"\n",
    "MSEED_FOLDER = \"C:/Users/Arnaud/Desktop/Seismic_noise/PDR/SeismicNoiseData/MSEED\"\n",
    "freqs = [(4,8)]       # Bandes de fréquence à étudier\n",
    "start_date = \"2020-04-09\"         # Date de début\n",
    "end_date = \"2021-10-29\"           # Date de fin\n",
    "st_file = \"DATA/st_metadata/st_test.txt\"  # Fichier de stations\n",
    "all_stations = [\"G.CCD.20.BHZ\",\"G.CCD.00.BHZ\"]"
   ]
  },
  {
   "cell_type": "markdown",
   "id": "8aeec198",
   "metadata": {},
   "source": [
    "---\n",
    "## Processing des formes d'ondes"
   ]
  },
  {
   "cell_type": "markdown",
   "id": "013e29ec",
   "metadata": {},
   "source": [
    "**Préparation des répertoires**"
   ]
  },
  {
   "cell_type": "code",
   "execution_count": 3,
   "id": "f56638ab",
   "metadata": {},
   "outputs": [],
   "source": [
    "start = UTCDateTime(start_date)\n",
    "end = UTCDateTime(end_date) + 86340\n",
    "\n",
    "### Liste des stations à traiter\n",
    "try:\n",
    "    # Si all_stations a été initialisé avant, on passe\n",
    "    type(all_stations)\n",
    "except:\n",
    "    # Si all_stations n'a pas été initialisé avant, on récupère le fichier contenant les stations\n",
    "    all_stations = np.loadtxt(st_file, dtype=str)\n",
    "    try:\n",
    "        len(all_stations)\n",
    "    except:\n",
    "        all_stations = np.append(list(), all_stations)\n",
    "    \n",
    "### Création des répertoires de données\n",
    "if not os.path.exists(MSEED_FOLDER): os.makedirs(MSEED_FOLDER)\n",
    "if not os.path.exists(PPSD_FOLDER):  os.makedirs(PPSD_FOLDER)\n",
    "if not os.path.exists(DRMS_FOLDER):  os.makedirs(DRMS_FOLDER)\n",
    "    \n",
    "period = [start, end]"
   ]
  },
  {
   "cell_type": "markdown",
   "id": "3db85be7",
   "metadata": {},
   "source": [
    "**Processing des données**"
   ]
  },
  {
   "cell_type": "code",
   "execution_count": null,
   "id": "f010c12e",
   "metadata": {},
   "outputs": [
    {
     "name": "stdout",
     "output_type": "stream",
     "text": [
      "[2021-12-27 15:45:51] [INFO] Début du programme\n",
      "[2021-12-27 15:45:51] [INFO] Station 1/2 G.CCD.20.BHZ\n",
      "[2021-12-27 15:45:51] [INFO]     Processing RMS ... \n",
      "[2021-12-27 16:29:24] [INFO] Station 2/2 G.CCD.00.BHZ\n",
      "[2021-12-27 16:29:24] [INFO]     Processing RMS ... \n"
     ]
    }
   ],
   "source": [
    "print(\"[{}] [INFO] Début du programme\".format(datetime.datetime.now().strftime(\"%Y-%m-%d %H:%M:%S\")))\n",
    "datelist = pd.date_range(start.datetime, min(end, UTCDateTime()).datetime, freq=\"D\")  # Jours à récupérer\n",
    "client = Client(\"RESIF\")  # Client utilisé pour récupérer les donnée via le webservice\n",
    "\n",
    "k = 1\n",
    "for station_str in all_stations:\n",
    "    \n",
    "    PPSD_FILES  = PPSD_FOLDER  + \"/{}/\".format(station_str)\n",
    "    DRMS_FILES  = DRMS_FOLDER  + \"/{}/\".format(station_str)\n",
    "    MSEED_FILES = MSEED_FOLDER + \"/{}/\".format(station_str)\n",
    "    print(\"[{}] [INFO] Station {}/{} {}\".format(datetime.datetime.now().strftime(\"%Y-%m-%d %H:%M:%S\"), k, len(all_stations), station_str))\n",
    "    \n",
    "    ### Téléchargement des données\n",
    "    if dl_noise:\n",
    "        print(\"[{}] [INFO]     Collecting ...\".format(datetime.datetime.now().strftime(\"%Y-%m-%d %H:%M:%S\")))\n",
    "        download_noise(start, end, time_zone, station_str, client, MSEED_FILES, datelist)\n",
    "    \n",
    "    ### Téléchargement des PPSDs\n",
    "    if dl_PPSD:\n",
    "        print(\"[{}] [INFO]     Collecting PPSDs ... \".format(datetime.datetime.now().strftime(\"%Y-%m-%d %H:%M:%S\")))\n",
    "        filename = PPSD_FOLDER + '/' + station_str + '/data.zip'\n",
    "        if not os.path.exists(PPSD_FOLDER + '/' + station_str):  os.makedirs(PPSD_FOLDER + '/' + station_str)\n",
    "        net, sta, loc, cha = tuple(station_str.split(\".\"))\n",
    "        url = \"https://ws.resif.fr/resifws/ppsd/1/query?net={}&sta={}&loc={}&cha={}&starttime={}&endtime={}&format=npz&nodata=404\".format(net,sta,loc,cha,start_date,end_date)\n",
    "        try:\n",
    "            urllib.request.urlretrieve(url, filename)\n",
    "        except:\n",
    "            pass\n",
    "        else:\n",
    "            with zipfile.ZipFile(filename, 'r') as zip_ref:\n",
    "                zip_ref.extractall(PPSD_FOLDER + '/' + station_str)\n",
    "            os.remove(filename)\n",
    "    \n",
    "    ### Calcul des PPSDs\n",
    "    if proc_PPSD:\n",
    "        print(\"[{}] [INFO]     Processing PPSDs ... \".format(datetime.datetime.now().strftime(\"%Y-%m-%d %H:%M:%S\")))\n",
    "        ppsds = process_PPSD(start, end, time_zone, station_str, client, MSEED_FILES, PPSD_FILES, datelist)\n",
    "        if delete_MSEED:\n",
    "            for f in glob.glob(\"{}*.mseed\".format(MSEED_FILES)):\n",
    "                try:\n",
    "                    os.remove(f)\n",
    "                except:\n",
    "                    pass\n",
    "    \n",
    "    ### Calcul du déplacement RMS\n",
    "    if proc_DRMS:\n",
    "        print(\"[{}] [INFO]     Processing RMS ... \".format(datetime.datetime.now().strftime(\"%Y-%m-%d %H:%M:%S\")))\n",
    "        ppsds = load_PPSD(np.append(list(), station_str), period, PPSD_FILES)\n",
    "        process_DRMS(ppsds, freqs, DRMS_FOLDER)\n",
    "        \n",
    "    k += 1\n",
    "\n",
    "print(\"[{}] [INFO] FIN - Arrêt du programme\".format(datetime.datetime.now().strftime(\"%Y-%m-%d %H:%M:%S\")))"
   ]
  }
 ],
 "metadata": {
  "kernelspec": {
   "display_name": "Python 3 (ipykernel)",
   "language": "python",
   "name": "python3"
  },
  "language_info": {
   "codemirror_mode": {
    "name": "ipython",
    "version": 3
   },
   "file_extension": ".py",
   "mimetype": "text/x-python",
   "name": "python",
   "nbconvert_exporter": "python",
   "pygments_lexer": "ipython3",
   "version": "3.7.12"
  }
 },
 "nbformat": 4,
 "nbformat_minor": 5
}
