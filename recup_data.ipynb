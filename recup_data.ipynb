{
 "cells": [
  {
   "cell_type": "markdown",
   "id": "1f7b5368-93a0-4576-81f6-a05611c4130d",
   "metadata": {},
   "source": [
    "# Récupération/Traitement des données de formes d'ondes"
   ]
  },
  {
   "cell_type": "markdown",
   "id": "d0888880-dd7f-4dfc-a51c-d45af71f9255",
   "metadata": {},
   "source": [
    "> Ce Notebook présente la récupération des formes d'ondes pour le calcul des PPSDs et du déplacement RMS."
   ]
  },
  {
   "cell_type": "markdown",
   "id": "4c3ed3f8-c9b0-4657-bd0e-7299c3902eb6",
   "metadata": {},
   "source": [
    "## Importation des modules"
   ]
  },
  {
   "cell_type": "code",
   "execution_count": null,
   "id": "cbdb8d39-a93f-4bb3-87bc-e987129bf6dc",
   "metadata": {},
   "outputs": [],
   "source": [
    "import glob, os\n",
    "import numpy as np\n",
    "import pandas as pd\n",
    "import warnings\n",
    "import datetime\n",
    "import sys\n",
    "from obspy import UTCDateTime, read\n",
    "from obspy.clients.fdsn import Client\n",
    "from obspy.clients.fdsn.client import FDSNNoDataException\n",
    "from obspy.signal import PPSD\n",
    "from seismic_noise import download_noise, process_PPSD, load_PPSD, process_DRMS"
   ]
  },
  {
   "cell_type": "markdown",
   "id": "76c45de9-7c24-4399-b5f5-c9486d018d54",
   "metadata": {},
   "source": [
    "## Paramètre initiaux"
   ]
  },
  {
   "cell_type": "code",
   "execution_count": null,
   "id": "a46ac159-2bdb-4cc9-961a-fd5808dd54ed",
   "metadata": {},
   "outputs": [],
   "source": [
    "time_zone = \"Europe/Brussels\"     # Format d'heure\n",
    "dl_noise = False                   # Téléchargement des données\n",
    "proc_PPSD = False                  # Calcul des PPSDs\n",
    "proc_DRMS = True                  # Calcul du déplacement RMS\n",
    "delete_MSEED = False              # Suppression des fichiers MSEED\n",
    "PPSD_FOLDER  = \"/media/flavien/Stockage/SeismicNoiseData/PPSD\"\n",
    "DRMS_FOLDER  = \"/media/flavien/Stockage/SeismicNoiseData/DRMS\"\n",
    "MSEED_FOLDER = \"/media/flavien/Stockage/SeismicNoiseData/MSEED\"\n",
    "freqs = [(4, 14)]                 # Bandes de fréquence à étudier\n",
    "start_date = \"2020-01-01\"                     # Date de début\n",
    "end_date = \"2021-04-01\"                       # Date de fin\n",
    "st_file = \"DATA/st_metadata/old_st.txt\"  # Fichier de stations"
   ]
  },
  {
   "cell_type": "markdown",
   "id": "85d5a40a-d54a-40cc-b44f-feae4d2add75",
   "metadata": {},
   "source": [
    "## Processing des formes d'ondes"
   ]
  },
  {
   "cell_type": "code",
   "execution_count": null,
   "id": "11e109ef-2a83-48ec-adb8-ecbe360668ce",
   "metadata": {},
   "outputs": [],
   "source": [
    "start = UTCDateTime(start_date)\n",
    "end = UTCDateTime(end_date)\n",
    "all_stations = np.loadtxt(st_file, dtype=str)\n",
    "\n",
    "### Liste des stations à traiter\n",
    "try:\n",
    "    len(all_stations)\n",
    "except:\n",
    "    all_stations = np.append(list(), all_stations)\n",
    "    \n",
    "### Création des répertoires de données\n",
    "if not os.path.exists(MSEED_FOLDER): os.makedirs(MSEED_FOLDER)\n",
    "if not os.path.exists(PPSD_FOLDER):  os.makedirs(PPSD_FOLDER)\n",
    "if not os.path.exists(DRMS_FOLDER):  os.makedirs(DRMS_FOLDER)\n",
    "    \n",
    "period = [start, end]"
   ]
  },
  {
   "cell_type": "code",
   "execution_count": null,
   "id": "ed2252c5-28ab-45f8-af55-488e62827d5c",
   "metadata": {},
   "outputs": [],
   "source": [
    "print(\"[{}] [INFO] Début du programme\".format(datetime.datetime.now().strftime(\"%Y-%m-%d %H:%M:%S\")))\n",
    "datelist = pd.date_range(start.datetime, min(end, UTCDateTime()).datetime, freq=\"D\")  # Jours à récupérer\n",
    "client = Client(\"RESIF\")  # Client utilisé pour récupérer les donnée via le webservice\n",
    "\n",
    "k = 1\n",
    "for station_str in all_stations:\n",
    "    \n",
    "    PPSD_FILES  = PPSD_FOLDER  + \"/{}/\".format(station_str)\n",
    "    DRMS_FILES  = DRMS_FOLDER  + \"/{}/\".format(station_str)\n",
    "    MSEED_FILES = MSEED_FOLDER + \"/{}/\".format(station_str)\n",
    "    print(\"[{}] [INFO] Station {}/{} {}\".format(datetime.datetime.now().strftime(\"%Y-%m-%d %H:%M:%S\"), k, len(all_stations), station_str))\n",
    "    \n",
    "    ### Téléchargement des données\n",
    "    if dl_noise:\n",
    "        print(\"[{}] [INFO]     Collecting ...\".format(datetime.datetime.now().strftime(\"%Y-%m-%d %H:%M:%S\")))\n",
    "        download_noise(start, end, time_zone, station_str, client, MSEED_FILES, datelist)\n",
    "    \n",
    "    ### Calcul des PPSDs\n",
    "    if proc_PPSD:\n",
    "        print(\"[{}] [INFO]     Processing PPSD ... \".format(datetime.datetime.now().strftime(\"%Y-%m-%d %H:%M:%S\")))\n",
    "        ppsds = process_PPSD(start, end, time_zone, station_str, client, MSEED_FILES, PPSD_FILES, datelist)\n",
    "        if delete_MSEED:\n",
    "            for f in glob.glob(\"{}*.mseed\".format(MSEED_FILES)):\n",
    "                try:\n",
    "                    os.remove(f)\n",
    "                except:\n",
    "                    pass\n",
    "    \n",
    "    ### Calcul du déplacement RMS\n",
    "    if proc_DRMS:\n",
    "        print(\"[{}] [INFO]     Processing RMS ... \".format(datetime.datetime.now().strftime(\"%Y-%m-%d %H:%M:%S\")))\n",
    "        ppsds = load_PPSD(np.append(list(), station_str), period, PPSD_FILES)\n",
    "        process_DRMS(ppsds, freqs, DRMS_FOLDER)\n",
    "        \n",
    "    k += 1\n",
    "\n",
    "print(\"[{}] [INFO] FIN - Arrêt du programme\".format(datetime.datetime.now().strftime(\"%Y-%m-%d %H:%M:%S\")))"
   ]
  }
 ],
 "metadata": {
  "kernelspec": {
   "display_name": "Python 3",
   "language": "python",
   "name": "python3"
  },
  "language_info": {
   "codemirror_mode": {
    "name": "ipython",
    "version": 3
   },
   "file_extension": ".py",
   "mimetype": "text/x-python",
   "name": "python",
   "nbconvert_exporter": "python",
   "pygments_lexer": "ipython3",
   "version": "3.9.5"
  }
 },
 "nbformat": 4,
 "nbformat_minor": 5
}
