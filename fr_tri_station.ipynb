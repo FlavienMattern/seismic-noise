{
 "cells": [
  {
   "cell_type": "code",
   "execution_count": 19,
   "metadata": {},
   "outputs": [],
   "source": [
    "%matplotlib inline\n",
    "\n",
    "import datetime\n",
    "import os\n",
    "from glob import glob\n",
    "\n",
    "import matplotlib.pyplot as plt\n",
    "import matplotlib.ticker as ticker\n",
    "import matplotlib.patheffects as pe\n",
    "from mpl_toolkits.axes_grid1 import make_axes_locatable\n",
    "import numpy as np\n",
    "import pandas as pd\n",
    "import tqdm.notebook as tqdm\n",
    "import warnings\n",
    "\n",
    "from obspy import UTCDateTime, read\n",
    "from obspy.clients.fdsn import Client\n",
    "from obspy.clients.fdsn.client import FDSNNoDataException\n",
    "from obspy.signal import PPSD\n"
   ]
  },
  {
   "cell_type": "code",
   "execution_count": 22,
   "metadata": {},
   "outputs": [
    {
     "name": "stdout",
     "output_type": "stream",
     "text": [
      "['FR.ABJF.00.HHZ' 'FR.AGO.00.HHZ' 'FR.AJAC.00.HHZ' 'FR.ARBF.00.HHZ'\n",
      " 'FR.ARTF.00.HHZ' 'FR.ATE.00.HHZ' 'FR.BALS.00.HHZ' 'FR.BANN.00.HHZ'\n",
      " 'FR.BARI.00.HHZ' 'FR.BEGF.00.HHZ' 'FR.BESN.00.HHZ' 'FR.BETS.00.HHZ'\n",
      " 'FR.BIMF.00.HHZ' 'FR.BLAF.00.HHZ' 'FR.BOUC.00.HHZ' 'FR.BOUF.00.HHZ'\n",
      " 'FR.BRGF.00.HHZ' 'FR.BSCF.00.HHZ' 'FR.BSTF.00.HHZ' 'FR.CALF.00.HHZ'\n",
      " 'FR.CAMF.00.HHZ' 'FR.CARF.00.HHZ' 'FR.CFF.00.HHZ' 'FR.CHIF.00.HHZ'\n",
      " 'FR.CHLF.00.HHZ' 'FR.CHMF.00.HHZ' 'FR.CIEL.00.HHZ' 'FR.CLAF.00.HHZ'\n",
      " 'FR.CLEV.00.HHZ' 'FR.CLF.00.HHZ' 'FR.CLMF.00.HHZ' 'FR.COLF.00.HHZ'\n",
      " 'FR.CRAS.00.HHZ' 'FR.CRNF.00.HHZ' 'FR.CURIE.00.HHZ' 'FR.DOU.00.HHZ'\n",
      " 'FR.DUNF.00.HHZ' 'FR.EILF.00.HHZ' 'FR.ENAUX.00.HHZ' 'FR.ESCA.01.HHZ'\n",
      " 'FR.FAHY.00.HHZ' 'FR.FILF.00.HHZ' 'FR.FNEB.00.HHZ' 'FR.FOURG.00.HHZ'\n",
      " 'FR.FRNF.00.HHZ' 'FR.GARF.00.HHZ' 'FR.GENF.00.HHZ' 'FR.GIZF.00.HHZ'\n",
      " 'FR.GNEF.00.HHZ' 'FR.GRN.00.HHZ' 'FR.GUEF.00.HHZ' 'FR.HELF.00.HHZ'\n",
      " 'FR.HOHE.00.HHZ' 'FR.HRSF.00.HHZ' 'FR.ILLF.00.HHZ' 'FR.ILLK.00.HHZ'\n",
      " 'FR.IRAF.00.HHZ' 'FR.ISO.00.HHZ' 'FR.LABF.00.HHZ' 'FR.LAJAS.00.HHZ'\n",
      " 'FR.LATF.00.HHZ' 'FR.LBL.00.HHZ' 'FR.LEMB.00.HHZ' 'FR.LEUC.00.HHZ'\n",
      " 'FR.LOCF.00.HHZ' 'FR.LOUF.00.HHZ' 'FR.LRVF.00.HHZ' 'FR.MANO.00.HHZ'\n",
      " 'FR.MELF.00.HHZ' 'FR.MLS.00.HHZ' 'FR.MLYF.00.HHZ' 'FR.MLZA.00.HHZ'\n",
      " 'FR.MON.00.HHZ' 'FR.MONQ.00.HHZ' 'FR.MORSI.00.HHZ' 'FR.MTNF.00.HHZ'\n",
      " 'FR.MVIF.00.HHZ' 'FR.NEEW.00.HHZ' 'FR.NEUF.00.HHZ' 'FR.OG02.00.HHZ'\n",
      " 'FR.OG35.00.HHZ' 'FR.OGAG.00.HHZ' 'FR.OGCB.00.HHZ' 'FR.OGCC.00.HHZ'\n",
      " 'FR.OGCN.00.HHZ' 'FR.OGDF.00.HHZ' 'FR.OGDI.00.HHZ' 'FR.OGGL.00.HHZ'\n",
      " 'FR.OGJA.00.HHZ' 'FR.OGLC.00.HHZ' 'FR.OGMO.00.HHZ' 'FR.OGMY.00.HHZ'\n",
      " 'FR.OGRV.00.HHZ' 'FR.OGS1.00.HHZ' 'FR.OGS2.00.HHZ' 'FR.OGS3.00.HHZ'\n",
      " 'FR.OGSA.00.HHZ' 'FR.OGSI.00.HHZ' 'FR.OGSM.00.HHZ' 'FR.OGVG.00.HHZ'\n",
      " 'FR.OLIV.00.HHZ' 'FR.OPS.00.HHZ' 'FR.ORDF.00.HHZ' 'FR.OSSF.00.HHZ'\n",
      " 'FR.PAND.00.HHZ' 'FR.PIAF.00.HHZ' 'FR.PLDF.00.HHZ' 'FR.PLEF.00.HHZ'\n",
      " 'FR.PLOF.00.HHZ' 'FR.PLYF.00.HHZ' 'FR.PYLO.00.HHZ' 'FR.RESF.00.HHZ'\n",
      " 'FR.REYF.00.HHZ' 'FR.RIVEL.00.HHZ' 'FR.RONF.00.HHZ' 'FR.RSL.00.HHZ'\n",
      " 'FR.RUFF.00.HHZ' 'FR.RUSF.06.HHZ' 'FR.SALF.00.HHZ' 'FR.SALSA.00.HHZ'\n",
      " 'FR.SAOF.00.HHZ' 'FR.SAUF.00.HHZ' 'FR.SDOF.00.HHZ' 'FR.SJAF.00.HHZ'\n",
      " 'FR.SLVF.00.HHZ' 'FR.SMPL.00.HHZ' 'FR.SOMF.00.HHZ' 'FR.SPIF.00.HHZ'\n",
      " 'FR.SROF.00.HHZ' 'FR.STR.10.HHZ' 'FR.SURF.00.HHZ' 'FR.SZBH.02.HHZ'\n",
      " 'FR.TERF.00.HHZ' 'FR.TRBF.00.HHZ' 'FR.TRIGF.00.HHZ' 'FR.TSDF.00.HHZ'\n",
      " 'FR.TURF.00.HHZ' 'FR.URDF.00.HHZ' 'FR.VALC.00.HHZ' 'FR.VERF.00.HHZ'\n",
      " 'FR.VIEF.00.HHZ' 'FR.VILS.00.HHZ' 'FR.VOEL.00.HHZ' 'FR.WALT.00.HHZ'\n",
      " 'FR.WLS.00.HHZ' 'FR.XAFF.00.HHZ' 'FR.ZELS.00.HHZ' 'G.SSB.10.HHZ'\n",
      " 'RD.ETNF..HHZ' 'RD.SAVF..HHZ']\n"
     ]
    }
   ],
   "source": [
    "st_file = \"DATA/st_metadata/stations_fr.txt\"\n",
    "\n",
    "stations = np.loadtxt(st_file, dtype=str)\n",
    "\n",
    "print(stations)"
   ]
  },
  {
   "cell_type": "code",
   "execution_count": 24,
   "metadata": {},
   "outputs": [
    {
     "ename": "SyntaxError",
     "evalue": "invalid syntax (<ipython-input-24-514f3007f0ba>, line 3)",
     "output_type": "error",
     "traceback": [
      "\u001b[1;36m  File \u001b[1;32m\"<ipython-input-24-514f3007f0ba>\"\u001b[1;36m, line \u001b[1;32m3\u001b[0m\n\u001b[1;33m    if i=get_ipython().getoutput(\"'FR.ABJF.00.HHZ.csv':\")\u001b[0m\n\u001b[1;37m        ^\u001b[0m\n\u001b[1;31mSyntaxError\u001b[0m\u001b[1;31m:\u001b[0m invalid syntax\n"
     ]
    }
   ],
   "source": [
    "for i in stations:\n",
    "    file = i\n",
    "\n",
    "    data1 = pd.read_csv('C:/Users/Arnaud/Desktop/Travail/Projet de Recherche/SeismicNoiseData/DRMS/'+file+'.csv',usecols=[1])\n",
    "\n",
    "    #print(data1)\n",
    "    #print(type(data1))\n",
    "\n",
    "    findata = pd.DataFrame.median(data1)\n",
    "\n",
    "    print(findata)\n"
   ]
  },
  {
   "cell_type": "code",
   "execution_count": null,
   "metadata": {},
   "outputs": [],
   "source": []
  }
 ],
 "metadata": {
  "kernelspec": {
   "display_name": "Python 3",
   "language": "python",
   "name": "python3"
  },
  "language_info": {
   "codemirror_mode": {
    "name": "ipython",
    "version": 3
   },
   "file_extension": ".py",
   "mimetype": "text/x-python",
   "name": "python",
   "nbconvert_exporter": "python",
   "pygments_lexer": "ipython3",
   "version": "3.7.9"
  }
 },
 "nbformat": 4,
 "nbformat_minor": 4
}
