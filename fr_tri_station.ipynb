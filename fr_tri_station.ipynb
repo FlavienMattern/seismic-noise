{
 "cells": [
  {
   "cell_type": "code",
   "execution_count": 19,
   "metadata": {},
   "outputs": [],
   "source": [
    "%matplotlib inline\n",
    "\n",
    "import datetime\n",
    "import os\n",
    "from glob import glob\n",
    "\n",
    "import matplotlib.pyplot as plt\n",
    "import matplotlib.ticker as ticker\n",
    "import matplotlib.patheffects as pe\n",
    "from mpl_toolkits.axes_grid1 import make_axes_locatable\n",
    "import numpy as np\n",
    "import pandas as pd\n",
    "import tqdm.notebook as tqdm\n",
    "import warnings\n",
    "\n",
    "from obspy import UTCDateTime, read\n",
    "from obspy.clients.fdsn import Client\n",
    "from obspy.clients.fdsn.client import FDSNNoDataException\n",
    "from obspy.signal import PPSD\n"
   ]
  },
  {
   "cell_type": "code",
   "execution_count": 31,
   "metadata": {},
   "outputs": [
    {
     "name": "stdout",
     "output_type": "stream",
     "text": [
      "['FR.ABJF.00.HHZ' 'FR.AGO.00.HHZ' 'FR.AJAC.00.HHZ' 'FR.ARBF.00.HHZ'\n",
      " 'FR.ARTF.00.HHZ' 'FR.ATE.00.HHZ' 'FR.BALS.00.HHZ' 'FR.BANN.00.HHZ'\n",
      " 'FR.BARI.00.HHZ' 'FR.BEGF.00.HHZ' 'FR.BESN.00.HHZ' 'FR.BETS.00.HHZ'\n",
      " 'FR.BIMF.00.HHZ' 'FR.BLAF.00.HHZ' 'FR.BOUC.00.HHZ' 'FR.BOUF.00.HHZ'\n",
      " 'FR.BRGF.00.HHZ' 'FR.BSCF.00.HHZ' 'FR.BSTF.00.HHZ' 'FR.CALF.00.HHZ'\n",
      " 'FR.CAMF.00.HHZ' 'FR.CARF.00.HHZ' 'FR.CFF.00.HHZ' 'FR.CHIF.00.HHZ'\n",
      " 'FR.CHLF.00.HHZ' 'FR.CHMF.00.HHZ' 'FR.CIEL.00.HHZ' 'FR.CLAF.00.HHZ'\n",
      " 'FR.CLEV.00.HHZ' 'FR.CLF.00.HHZ' 'FR.CLMF.00.HHZ' 'FR.COLF.00.HHZ'\n",
      " 'FR.CRAS.00.HHZ' 'FR.CRNF.00.HHZ' 'FR.CURIE.00.HHZ' 'FR.DOU.00.HHZ'\n",
      " 'FR.DUNF.00.HHZ' 'FR.EILF.00.HHZ' 'FR.ENAUX.00.HHZ' 'FR.ESCA.01.HHZ'\n",
      " 'FR.FAHY.00.HHZ' 'FR.FILF.00.HHZ' 'FR.FNEB.00.HHZ' 'FR.FOURG.00.HHZ'\n",
      " 'FR.FRNF.00.HHZ' 'FR.GARF.00.HHZ' 'FR.GENF.00.HHZ' 'FR.GIZF.00.HHZ'\n",
      " 'FR.GNEF.00.HHZ' 'FR.GRN.00.HHZ' 'FR.GUEF.00.HHZ' 'FR.HELF.00.HHZ'\n",
      " 'FR.HOHE.00.HHZ' 'FR.HRSF.00.HHZ' 'FR.ILLF.00.HHZ' 'FR.ILLK.00.HHZ'\n",
      " 'FR.IRAF.00.HHZ' 'FR.ISO.00.HHZ' 'FR.LABF.00.HHZ' 'FR.LAJAS.00.HHZ'\n",
      " 'FR.LATF.00.HHZ' 'FR.LBL.00.HHZ' 'FR.LEMB.00.HHZ' 'FR.LEUC.00.HHZ'\n",
      " 'FR.LOCF.00.HHZ' 'FR.LOUF.00.HHZ' 'FR.LRVF.00.HHZ' 'FR.MANO.00.HHZ'\n",
      " 'FR.MELF.00.HHZ' 'FR.MLS.00.HHZ' 'FR.MLYF.00.HHZ' 'FR.MLZA.00.HHZ'\n",
      " 'FR.MON.00.HHZ' 'FR.MONQ.00.HHZ' 'FR.MORSI.00.HHZ' 'FR.MTNF.00.HHZ'\n",
      " 'FR.MVIF.00.HHZ' 'FR.NEEW.00.HHZ' 'FR.NEUF.00.HHZ' 'FR.OG02.00.HHZ'\n",
      " 'FR.OG35.00.HHZ' 'FR.OGAG.00.HHZ' 'FR.OGCB.00.HHZ' 'FR.OGCC.00.HHZ'\n",
      " 'FR.OGCN.00.HHZ' 'FR.OGDF.00.HHZ' 'FR.OGDI.00.HHZ' 'FR.OGGL.00.HHZ'\n",
      " 'FR.OGJA.00.HHZ' 'FR.OGLC.00.HHZ' 'FR.OGMO.00.HHZ' 'FR.OGMY.00.HHZ'\n",
      " 'FR.OGRV.00.HHZ' 'FR.OGS1.00.HHZ' 'FR.OGS2.00.HHZ' 'FR.OGS3.00.HHZ'\n",
      " 'FR.OGSA.00.HHZ' 'FR.OGSI.00.HHZ' 'FR.OGSM.00.HHZ' 'FR.OGVG.00.HHZ'\n",
      " 'FR.OLIV.00.HHZ' 'FR.OPS.00.HHZ' 'FR.ORDF.00.HHZ' 'FR.OSSF.00.HHZ'\n",
      " 'FR.PAND.00.HHZ' 'FR.PIAF.00.HHZ' 'FR.PLDF.00.HHZ' 'FR.PLEF.00.HHZ'\n",
      " 'FR.PLOF.00.HHZ' 'FR.PLYF.00.HHZ' 'FR.PYLO.00.HHZ' 'FR.RESF.00.HHZ'\n",
      " 'FR.REYF.00.HHZ' 'FR.RIVEL.00.HHZ' 'FR.RONF.00.HHZ' 'FR.RSL.00.HHZ'\n",
      " 'FR.RUFF.00.HHZ' 'FR.RUSF.06.HHZ' 'FR.SALF.00.HHZ' 'FR.SALSA.00.HHZ'\n",
      " 'FR.SAOF.00.HHZ' 'FR.SAUF.00.HHZ' 'FR.SDOF.00.HHZ' 'FR.SJAF.00.HHZ'\n",
      " 'FR.SLVF.00.HHZ' 'FR.SMPL.00.HHZ' 'FR.SOMF.00.HHZ' 'FR.SPIF.00.HHZ'\n",
      " 'FR.SROF.00.HHZ' 'FR.STR.10.HHZ' 'FR.SURF.00.HHZ' 'FR.SZBH.02.HHZ'\n",
      " 'FR.TERF.00.HHZ' 'FR.TRBF.00.HHZ' 'FR.TRIGF.00.HHZ' 'FR.TSDF.00.HHZ'\n",
      " 'FR.TURF.00.HHZ' 'FR.URDF.00.HHZ' 'FR.VALC.00.HHZ' 'FR.VERF.00.HHZ'\n",
      " 'FR.VIEF.00.HHZ' 'FR.VILS.00.HHZ' 'FR.VOEL.00.HHZ' 'FR.WALT.00.HHZ'\n",
      " 'FR.WLS.00.HHZ' 'FR.XAFF.00.HHZ' 'FR.ZELS.00.HHZ' 'G.SSB.10.HHZ'\n",
      " 'RD.ETNF..HHZ' 'RD.SAVF..HHZ']\n"
     ]
    }
   ],
   "source": [
    "st_file = \"DATA/st_metadata/stations_fr.txt\"\n",
    "\n",
    "stations = np.loadtxt(st_file, dtype=str)\n",
    "\n",
    "print(stations)"
   ]
  },
  {
   "cell_type": "code",
   "execution_count": 78,
   "metadata": {},
   "outputs": [
    {
     "name": "stdout",
     "output_type": "stream",
     "text": [
      "[[1.8137359132e-11, 'FR.OGCC.00.HHZ'], [2.10032246254e-11, 'FR.OGLC.00.HHZ'], [2.26252738269e-11, 'FR.CALF.00.HHZ'], [2.2707358900400002e-11, 'FR.MLS.00.HHZ'], [2.56444817349e-11, 'FR.LABF.00.HHZ'], [2.67560676555e-11, 'FR.ARTF.00.HHZ'], [2.8810114283000004e-11, 'FR.TRIGF.00.HHZ'], [2.9141777741199996e-11, 'FR.VERF.00.HHZ'], [2.9316170380300004e-11, 'FR.TRBF.00.HHZ'], [2.97273456135e-11, 'FR.OGVG.00.HHZ'], [3.10948640824e-11, 'FR.TURF.00.HHZ'], [3.18056717011e-11, 'FR.COLF.00.HHZ'], [3.211001931195e-11, 'FR.OGJA.00.HHZ'], [3.237786134595e-11, 'FR.SALSA.00.HHZ'], [3.3310738938299996e-11, 'FR.ATE.00.HHZ'], [3.67956777657e-11, 'FR.SLVF.00.HHZ'], [3.81066159383e-11, 'FR.OGDF.00.HHZ'], [3.88313754267e-11, 'FR.MORSI.00.HHZ'], [4.08075903695e-11, 'FR.FILF.00.HHZ'], [4.10537518053e-11, 'FR.OGCB.00.HHZ'], [4.40244186912e-11, 'FR.CARF.00.HHZ'], [4.4200490459100005e-11, 'FR.SALF.00.HHZ'], [4.482397255979999e-11, 'FR.SAOF.00.HHZ'], [4.596214238689999e-11, 'FR.BSTF.00.HHZ'], [4.63047651147e-11, 'FR.PLDF.00.HHZ'], [4.7115650786e-11, 'G.SSB.10.HHZ'], [4.7479823611599995e-11, 'FR.ORDF.00.HHZ'], [4.87969624307e-11, 'FR.FRNF.00.HHZ'], [4.94298912727e-11, 'FR.FNEB.00.HHZ'], [5.10488894144e-11, 'FR.LEUC.00.HHZ'], [5.10622227857e-11, 'FR.AGO.00.HHZ'], [5.3305026399350004e-11, 'FR.SJAF.00.HHZ'], [5.351476973560001e-11, 'FR.OGSA.00.HHZ'], [5.41044020378e-11, 'FR.RUSF.06.HHZ'], [5.6446284996599994e-11, 'FR.SOMF.00.HHZ'], [5.713542163880001e-11, 'FR.MTNF.00.HHZ'], [6.100198130554999e-11, 'FR.MONQ.00.HHZ'], [6.44220925966e-11, 'FR.ENAUX.00.HHZ'], [6.45518149602e-11, 'FR.OG35.00.HHZ'], [6.539830796495e-11, 'FR.LBL.00.HHZ'], [6.562986219890001e-11, 'FR.SROF.00.HHZ'], [6.6127048981e-11, 'FR.SPIF.00.HHZ'], [6.616003047399999e-11, 'FR.OGMY.00.HHZ'], [6.759521711899999e-11, 'FR.CHMF.00.HHZ'], [6.792858692935e-11, 'FR.DOU.00.HHZ'], [6.8027401018e-11, 'FR.SURF.00.HHZ'], [6.943586384920001e-11, 'FR.BANN.00.HHZ'], [6.994273584204999e-11, 'FR.ABJF.00.HHZ'], [7.24029448382e-11, 'FR.OGSM.00.HHZ'], [7.321968393445e-11, 'FR.BALS.00.HHZ'], [7.323175191765e-11, 'FR.SMPL.00.HHZ'], [7.360002917489999e-11, 'FR.GNEF.00.HHZ'], [7.39213977854e-11, 'FR.RSL.00.HHZ'], [7.41320972713e-11, 'FR.OSSF.00.HHZ'], [7.507733715579999e-11, 'FR.MANO.00.HHZ'], [7.6239045759e-11, 'FR.DUNF.00.HHZ'], [7.651103493960001e-11, 'FR.VIEF.00.HHZ'], [7.66661195786e-11, 'FR.PLYF.00.HHZ'], [7.84422289294e-11, 'FR.PIAF.00.HHZ'], [7.857731153735e-11, 'FR.LOCF.00.HHZ'], [8.0161669665e-11, 'FR.OGS3.00.HHZ'], [8.24868475693e-11, 'FR.REYF.00.HHZ'], [8.632570732685e-11, 'FR.BESN.00.HHZ'], [8.79545511019e-11, 'FR.CLAF.00.HHZ'], [9.273010276554999e-11, 'FR.GUEF.00.HHZ'], [9.775633441469999e-11, 'FR.FAHY.00.HHZ'], [9.780798073200001e-11, 'FR.ISO.00.HHZ'], [9.78250951266e-11, 'FR.BIMF.00.HHZ'], [9.90730229077e-11, 'FR.OLIV.00.HHZ'], [9.918426750295001e-11, 'FR.GENF.00.HHZ'], [1.0041076344049999e-10, 'FR.LOUF.00.HHZ'], [1.0329811965e-10, 'FR.MELF.00.HHZ'], [1.07672762127e-10, 'FR.OG02.00.HHZ'], [1.0781212776e-10, 'FR.IRAF.00.HHZ'], [1.081707377095e-10, 'FR.CRNF.00.HHZ'], [1.09697077508e-10, 'FR.BEGF.00.HHZ'], [1.14096217342e-10, 'FR.FOURG.00.HHZ'], [1.143507917315e-10, 'FR.BOUF.00.HHZ'], [1.17599138946e-10, 'FR.LEMB.00.HHZ'], [1.197279733085e-10, 'FR.CHIF.00.HHZ'], [1.2263909451299998e-10, 'FR.BOUC.00.HHZ'], [1.24297504368e-10, 'FR.LATF.00.HHZ'], [1.2768042057899999e-10, 'FR.RIVEL.00.HHZ'], [1.37021352846e-10, 'FR.VOEL.00.HHZ'], [1.37936218543e-10, 'FR.MVIF.00.HHZ'], [1.42652946892e-10, 'FR.XAFF.00.HHZ'], [1.45622546043e-10, 'FR.RONF.00.HHZ'], [1.47476545893e-10, 'FR.LAJAS.00.HHZ'], [1.49328626499e-10, 'FR.OGRV.00.HHZ'], [1.56058355918e-10, 'FR.OGSI.00.HHZ'], [1.5974339253549998e-10, 'FR.PAND.00.HHZ'], [1.6119479647400002e-10, 'FR.RESF.00.HHZ'], [1.73798620396e-10, 'FR.TERF.00.HHZ'], [1.7479949012400002e-10, 'FR.OGAG.00.HHZ'], [1.79079564367e-10, 'FR.OGDI.00.HHZ'], [1.802458561295e-10, 'FR.HOHE.00.HHZ'], [1.919739248695e-10, 'FR.GRN.00.HHZ'], [1.9530303090700002e-10, 'FR.WALT.00.HHZ'], [1.95416368422e-10, 'FR.VALC.00.HHZ'], [2.0194216300199998e-10, 'FR.PLEF.00.HHZ'], [2.2630648762449997e-10, 'FR.BSCF.00.HHZ'], [2.4259170539000003e-10, 'FR.WLS.00.HHZ'], [2.432234773575e-10, 'FR.PLOF.00.HHZ'], [2.5482673733000005e-10, 'FR.ESCA.01.HHZ'], [2.583067511325e-10, 'FR.VILS.00.HHZ'], [2.64532196532e-10, 'FR.RUFF.00.HHZ'], [2.830669481e-10, 'FR.OGS2.00.HHZ'], [2.8363760568300003e-10, 'FR.NEUF.00.HHZ'], [2.9676225596400004e-10, 'FR.CIEL.00.HHZ'], [3.20654910083e-10, 'FR.OGS1.00.HHZ'], [3.23465135467e-10, 'FR.NEEW.00.HHZ'], [3.32615263392e-10, 'FR.MLZA.00.HHZ'], [3.3876784556099997e-10, 'FR.SAUF.00.HHZ'], [3.5295677225900003e-10, 'FR.OGGL.00.HHZ'], [3.58232362648e-10, 'FR.ARBF.00.HHZ'], [3.64313136499e-10, 'FR.GIZF.00.HHZ'], [3.65653729999e-10, 'FR.CAMF.00.HHZ'], [3.9328228485e-10, 'FR.ZELS.00.HHZ'], [4.18127273668e-10, 'FR.CRAS.00.HHZ'], [4.4259482361699993e-10, 'FR.URDF.00.HHZ'], [4.596032706125e-10, 'FR.ILLF.00.HHZ'], [4.706302440930001e-10, 'FR.TSDF.00.HHZ'], [4.710153142069999e-10, 'FR.CLMF.00.HHZ'], [4.83337845403e-10, 'FR.BLAF.00.HHZ'], [5.175562624069999e-10, 'FR.CLF.00.HHZ'], [5.19173077876e-10, 'FR.BARI.00.HHZ'], [5.34497284607e-10, 'FR.HELF.00.HHZ'], [5.657541709850001e-10, 'FR.MLYF.00.HHZ'], [5.66042826444e-10, 'FR.AJAC.00.HHZ'], [5.76569740688e-10, 'FR.PYLO.00.HHZ'], [6.145616441505e-10, 'FR.OGCN.00.HHZ'], [6.475107503785001e-10, 'FR.MON.00.HHZ'], [6.86992455733e-10, 'FR.LRVF.00.HHZ'], [7.49395150006e-10, 'FR.SDOF.00.HHZ'], [8.020781904809999e-10, 'FR.EILF.00.HHZ'], [9.789690334455e-10, 'FR.OGMO.00.HHZ'], [2.045163900275e-09, 'FR.OPS.00.HHZ'], [2.51369318635e-09, 'FR.CFF.00.HHZ'], [6.06507942755e-09, 'FR.BETS.00.HHZ'], [7.7862543802e-09, 'FR.SZBH.02.HHZ'], [7.81559963318e-09, 'FR.ILLK.00.HHZ'], [8.87313015932e-09, 'FR.CURIE.00.HHZ']]\n"
     ]
    }
   ],
   "source": [
    "med_stations = []\n",
    "\n",
    "for i in stations:\n",
    "    try :\n",
    "        file = i\n",
    "\n",
    "        data1 = pd.read_csv('C:/Users/Arnaud/Desktop/Travail/Projet de Recherche/SeismicNoiseData/DRMS/'+file+'.csv',usecols=[5])\n",
    "\n",
    "        #print(data1)\n",
    "        #print(type(data1))\n",
    "\n",
    "        findata = pd.DataFrame.median(data1)\n",
    "        t = findata.tolist()\n",
    "        med_stations.append([t[0],file])\n",
    "\n",
    "        \n",
    "    except :\n",
    "        pass\n",
    "\n",
    "#print(med_stations)\n",
    "\n",
    "tri_stations = sorted(med_stations)\n",
    "\n",
    "print(tri_stations)"
   ]
  },
  {
   "cell_type": "code",
   "execution_count": null,
   "metadata": {},
   "outputs": [],
   "source": []
  }
 ],
 "metadata": {
  "kernelspec": {
   "display_name": "Python 3",
   "language": "python",
   "name": "python3"
  },
  "language_info": {
   "codemirror_mode": {
    "name": "ipython",
    "version": 3
   },
   "file_extension": ".py",
   "mimetype": "text/x-python",
   "name": "python",
   "nbconvert_exporter": "python",
   "pygments_lexer": "ipython3",
   "version": "3.7.9"
  }
 },
 "nbformat": 4,
 "nbformat_minor": 4
}
