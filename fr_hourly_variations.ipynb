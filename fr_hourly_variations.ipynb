{
 "cells": [
  {
   "cell_type": "markdown",
   "metadata": {},
   "source": [
    "#### _Impact du confinement durant la crise du COVID-19 sur le niveau de bruit sismique ambiant._\n",
    "\n",
    "# VARIATIONS TEMPORELLES DU BRUIT SELON LES MESURES SANITAIRES EN VIGUEUR"
   ]
  },
  {
   "cell_type": "markdown",
   "metadata": {},
   "source": [
    "---\n",
    "\n",
    "**Description du Notebook :**\n",
    "> Dans ce notebook est étudié comment le bruit sismique à évolué avec les différentes mesures sanitaires mises en place par le gouvernement.\n"
   ]
  },
  {
   "cell_type": "markdown",
   "metadata": {},
   "source": [
    "---\n",
    "# Importation des modules"
   ]
  },
  {
   "cell_type": "code",
   "execution_count": null,
   "metadata": {},
   "outputs": [],
   "source": [
    "%matplotlib inline\n",
    "\n",
    "import datetime\n",
    "import os\n",
    "from glob import glob\n",
    "\n",
    "import matplotlib.pyplot as plt\n",
    "import matplotlib.ticker as ticker\n",
    "import matplotlib.patheffects as pe\n",
    "from mpl_toolkits.axes_grid1 import make_axes_locatable\n",
    "import numpy as np\n",
    "import pandas as pd\n",
    "import tqdm.notebook as tqdm\n",
    "import warnings\n",
    "\n",
    "from obspy import UTCDateTime, read\n",
    "from obspy.clients.fdsn import Client\n",
    "from obspy.clients.fdsn.client import FDSNNoDataException\n",
    "from obspy.signal import PPSD\n",
    "\n",
    "%load_ext autoreload\n",
    "%autoreload 2\n",
    "from seismic_noise import *\n",
    "import seismosocialdistancing"
   ]
  },
  {
   "cell_type": "markdown",
   "metadata": {},
   "source": [
    "---\n",
    "# 1. Récupération des données"
   ]
  },
  {
   "cell_type": "markdown",
   "metadata": {},
   "source": [
    "### Paramètres initiaux"
   ]
  },
  {
   "cell_type": "code",
   "execution_count": null,
   "metadata": {},
   "outputs": [],
   "source": [
    "### Paramètres généraux\n",
    "load_data = False              # Recalculer les PPSDs et le déplacement RMS\n",
    "# freqs = [(4.0,14.0)]          # Bandes de fréquences à étudier\n",
    "freq_str = [\"0.01-0.03\", \"0.1-0.25\", \"0.3-1.0\", \"1.0-3.0\", \"5.0-15.0\", \"20.0-50.0\"]\n",
    "st_file = \"DATA/st_metadata/stations_fr.txt\"  # Fichier de stations\n",
    "noise_input_data = \"B:/SeismicNoiseData/\"\n",
    "timeseries_data = \"Files/noise_timeseries/\"\n",
    "PPSD_FOLDER  = \"/media/flavien/Flavien USB/Stages/noise_data/PPSD\"\n",
    "DRMS_FOLDER  = \"/media/flavien/Flavien USB/Stages/noise_data/DRMS\"\n",
    "MSEED_FOLDER = \"/media/flavien/Flavien USB/Stages/noise_data/MSEED\"\n",
    "FIG_FOLDER = \"RESULTS\"\n",
    "tStart = \"2020-01-01\"\n",
    "tEnd = \"2021-08-01\"\n",
    "\n",
    "### Conversion des périodes en UTCDateTime\n",
    "periods = [[UTCDateTime(tStart), UTCDateTime(tEnd)]]"
   ]
  },
  {
   "cell_type": "markdown",
   "metadata": {},
   "source": [
    "### Récupération des PPSDs et du déplacement RMS"
   ]
  },
  {
   "cell_type": "code",
   "execution_count": null,
   "metadata": {},
   "outputs": [],
   "source": [
    "st_name = np.loadtxt(st_file, dtype=str)\n",
    "st_name = [\"FR.STR.00.HHZ\"]   # Station à étudier\n",
    "dRMS = {}\n",
    "for st_str in st_name:\n",
    "    try:\n",
    "        dataframe = pd.read_csv(\"{}/{}.csv\".format(DRMS_FOLDER, st_str), index_col=0)\n",
    "        dRMS[st_str] = dataframe\n",
    "    except:\n",
    "        pass\n",
    "st_name = list(dRMS.keys())"
   ]
  },
  {
   "cell_type": "code",
   "execution_count": null,
   "metadata": {},
   "outputs": [],
   "source": [
    "dRMS.keys()"
   ]
  },
  {
   "cell_type": "markdown",
   "metadata": {},
   "source": [
    "---\n",
    "# 2. Variations horaires du bruit"
   ]
  },
  {
   "cell_type": "markdown",
   "metadata": {},
   "source": [
    "## 2.1 Calcul de variations sur toute la période donnée"
   ]
  },
  {
   "cell_type": "markdown",
   "metadata": {},
   "source": [
    "#### Tags à afficher sur le graphique"
   ]
  },
  {
   "cell_type": "code",
   "execution_count": null,
   "metadata": {},
   "outputs": [],
   "source": [
    "tags = [\n",
    "    (\"2020-03-17\", 6, \"Confinement 1\"),\n",
    "    (\"2020-05-11\", 6, \"Déconfinement\"),\n",
    "    (\"2020-10-30\", 6, \"Confinement 2\"),\n",
    "    (\"2020-12-15\", 20, \"Déconfinement + Couvre-feu 20h\"),\n",
    "    (\"2021-01-10\", 18, \"Couvre feu à 18h\"),\n",
    "    (\"2021-04-03\", 6, \"Confinement 3\"),\n",
    "    (\"2021-05-03\", 6, \"Déconfinement\"),\n",
    "    (\"2021-06-09\", 23, \"Couvre feu à 23h\"),\n",
    "    (\"2021-06-30\", 6, \"Fin du couvre feu\")\n",
    "]"
   ]
  },
  {
   "cell_type": "code",
   "execution_count": null,
   "metadata": {
    "tags": []
   },
   "outputs": [],
   "source": [
    "### Calcul de la variation du bruit\n",
    "k = 1\n",
    "for st_str in st_name:\n",
    "    print(\"{}/{}    {}\".format(k, len(st_name), st_str))\n",
    "    for i, freq in enumerate(dRMS[st_str].columns):\n",
    "        \n",
    "        freq_name = freq_str[i]\n",
    "\n",
    "        try:\n",
    "            noise = dRMS[st_str][freq]  # Série temporelle du bruit\n",
    "            noise.index = pd.to_datetime(noise.index)\n",
    "        except:\n",
    "            continue\n",
    "        \n",
    "        ### Conversion heures locales\n",
    "#         L  = len(noise)\n",
    "#         utc_list = [ UTCDateTime(str(noise.index.values[i])) for i in range(L) ]\n",
    "#         utc_list = [ np.datetime64(utc_list[i].strftime(\"%Y-%m-%dT%H:%M:%S.%fZ\")) for i in range(L) ]\n",
    "#         utc_list = np.asarray(utc_list, dtype='datetime64[ns]')\n",
    "#         noise = noise.reindex(utc_list, method=None)\n",
    "        noise = noise.copy().tz_localize(\"UTC\").tz_convert(\"Europe/Brussels\").tz_localize(None).resample(\"30Min\").mean()\n",
    "        \n",
    "        ### Calcul variations horaires\n",
    "        t, h, noise_matrix = hourly_var(noise, periods)\n",
    "        grid = noise_matrix * 1e9  # Données en [nm]\n",
    "\n",
    "        ### Mise en graphique de la variation du bruit\n",
    "        plt.figure(figsize=(16, 8))\n",
    "        plt.pcolormesh(t, h+0.25, grid)\n",
    "        plt.clim(np.nanquantile(grid, 0.05), np.nanquantile(grid, 0.95))\n",
    "        plt.colorbar(label=\"Déplacement [nm]\")\n",
    "\n",
    "        ### Affichage des tags\n",
    "        for (date, hour, text) in tags:\n",
    "            # plt.scatter(np.datetime64(date), hour, zorder=50, s=40, color=\"red\", edgecolors=\"white\")\n",
    "            plt.axvline(np.datetime64(date), zorder=50, color=\"white\", ls=\"-\")\n",
    "            plt.text(np.datetime64(date)-8, 0.75, text, color=\"white\", fontsize=\"medium\", rotation=90)   # Confinement 1\n",
    "\n",
    "        ### Configuration de l'axe vertical\n",
    "        plt.ylabel(\"Heure locale\")\n",
    "        y_ticks = [\"%ih\" % j for j in range(1, 24)]\n",
    "        y_loc = [j for j in range(1, 24)]\n",
    "        plt.yticks(y_loc, y_ticks)\n",
    "        plt.title(\"{} - [{}] Hz\".format(st_str, freq_name))\n",
    "        folder_path = FIG_FOLDER + \"/FR/\" + st_str + \"/\" + freq_name + \"Hz\"\n",
    "\n",
    "        if not os.path.exists(folder_path): os.makedirs(folder_path)\n",
    "        plt.savefig(\"{}/ts_hourvar.png\".format(folder_path), dpi=150)\n",
    "        plt.close()\n",
    "        plt.clf()\n",
    "        # plt.show()\n",
    "        \n",
    "    k += 1"
   ]
  },
  {
   "cell_type": "markdown",
   "metadata": {},
   "source": [
    "## 2.2 Calcul de variations horaires sur plusieurs sous-périodes"
   ]
  },
  {
   "cell_type": "code",
   "execution_count": null,
   "metadata": {},
   "outputs": [],
   "source": [
    "subperiods = [\n",
    "    [\"2020-10-01\", \"2020-10-20\", \"No lockdown\", \"#8F8F8F\"],\n",
    "    [\"2020-03-18\", \"2020-05-10\", \"Lockdown 1\", \"#3D80B0\"],\n",
    "    [\"2020-11-01\", \"2020-12-10\", \"Lockdown 2\", \"#C53F2C\"],\n",
    "    [\"2020-12-10\", \"2020-12-31\", \"Christmas + Curfew 20h-6h\", \"#299739\"],\n",
    "    [\"2021-01-16\", \"2021-02-16\", \"Curfew 18h-6h\", \"#902F8C\"],\n",
    "    [\"2021-04-03\", \"2021-05-03\", \"Lockdown 3\", \"#E59B1A\"],\n",
    "    [\"2021-05-03\", \"2021-06-09\", \"Crufew 19h\", \"green\"],\n",
    "    [\"2021-06-09\", \"2021-06-30\", \"Crufew 23h\", \"blue\"],\n",
    "    [\"2021-06-30\", \"2021-07-31\", \"No curfew\", \"red\"]\n",
    "]"
   ]
  },
  {
   "cell_type": "code",
   "execution_count": null,
   "metadata": {},
   "outputs": [],
   "source": [
    "k = 1\n",
    "\n",
    "for st_str in st_name:\n",
    "    print(\"{}/{}    {}\".format(k, len(st_name), st_str))\n",
    "    for j, freq in enumerate(dRMS[st_str].columns):\n",
    "\n",
    "        freq_name = freq_str[j]\n",
    "        \n",
    "        try:\n",
    "            noise = dRMS[st_str][freq]  # Série temporelle du bruit\n",
    "            noise.index = pd.to_datetime(noise.index)\n",
    "        except:\n",
    "            continue\n",
    "\n",
    "        noise = noise.copy().tz_localize(\"UTC\").tz_convert(\"Europe/Brussels\").tz_localize(None).resample(\"30Min\").mean()\n",
    "        t, h, noise_matrix = hourly_var(noise, periods)\n",
    "        grid = noise_matrix * 1e9  # Données en [nm]\n",
    "        \n",
    "        # h = np.append(h[8:], h[:8])\n",
    "\n",
    "        ### Calcul du bruit pour que sous-période\n",
    "        plt.figure(figsize=(12, 6))\n",
    "        for i, value in enumerate(subperiods):\n",
    "            time1 = np.datetime64(subperiods[i][0])\n",
    "            time2 = np.datetime64(subperiods[i][1])\n",
    "            color = subperiods[i][3]\n",
    "            label = \"{} to {} : {}\".format(subperiods[i][0], subperiods[i][1], subperiods[i][2])\n",
    "            k1 = np.where(t == time1)[0][0]\n",
    "            k2 = np.where(t == time2)[0][0]\n",
    "\n",
    "            median = np.nanmedian(grid[:,k1:k2], axis=1)\n",
    "            median = np.append(median[8:], median[:8])\n",
    "            \n",
    "            if subperiods[i][2]==\"No lockdown\": plt.plot(h, median, label=label, color=color, lw=2, ls=\"--\")\n",
    "            else: plt.plot(h, median, label=label, color=color, lw=2)\n",
    "\n",
    "        ### Mise en graphique\n",
    "        plt.tick_params(direction=\"in\", which=\"both\", top=True, right=True)\n",
    "        plt.title(\"{} - [{}] Hz\".format(st_str,freq_name))\n",
    "        plt.grid(color=\"#D5D5D5\", linestyle='--', linewidth=1)\n",
    "        # plt.ylabel(\"Median displacement [nm]\")\n",
    "        plt.xlim([0, 23.5])\n",
    "        h_tick = np.append(np.arange(4, 23, 2), np.arange(0, 4, 2))\n",
    "        h_label = [\"4h\",\"6h\",\"8h\",\"10h\",\"12h\",\"14h\",\"16h\",\"18h\",\"20h\",\"22h\", \"0h\", \"2h\"]\n",
    "        plt.xticks(np.arange(0, 23, 2), h_label)\n",
    "        # plt.xticks(np.arange(0, 23, 2), [\"0h\",\"2h\",\"4h\",\"6h\",\"8h\",\"10h\",\"12h\",\"14h\",\"16h\",\"18h\",\"20h\",\"22h\"])\n",
    "\n",
    "        plt.legend(loc=\"upper left\",   # Position of legend\n",
    "                   borderaxespad=0.2,    # Small spacing around legend box\n",
    "                   bbox_to_anchor=(-0.1, -0.1),\n",
    "                   ncol=3)\n",
    "\n",
    "        plt.tight_layout()\n",
    "\n",
    "        folder_path = FIG_FOLDER + \"/FR/\" + st_str + \"/\" + freq_name + \"Hz\"\n",
    "\n",
    "        if not os.path.exists(folder_path): os.makedirs(folder_path)\n",
    "        plt.savefig(\"{}/hourvar_phase.png\".format(folder_path), dpi=150)\n",
    "        plt.close()\n",
    "        plt.clf()\n",
    "        # plt.show()\n",
    "\n",
    "    k += 1"
   ]
  }
 ],
 "metadata": {
  "celltoolbar": "Format de la Cellule Texte Brut",
  "kernelspec": {
   "display_name": "Python 3",
   "language": "python",
   "name": "python3"
  },
  "language_info": {
   "codemirror_mode": {
    "name": "ipython",
    "version": 3
   },
   "file_extension": ".py",
   "mimetype": "text/x-python",
   "name": "python",
   "nbconvert_exporter": "python",
   "pygments_lexer": "ipython3",
   "version": "3.8.5"
  }
 },
 "nbformat": 4,
 "nbformat_minor": 4
}
