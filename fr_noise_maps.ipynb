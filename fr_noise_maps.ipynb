{
 "cells": [
  {
   "cell_type": "markdown",
   "id": "cc692d17-3b02-4579-a7dd-c4d519a7a96f",
   "metadata": {},
   "source": [
    "# Cartes du niveau de bruit sismique"
   ]
  },
  {
   "cell_type": "code",
   "execution_count": 1,
   "id": "f787def0-7191-46e4-926b-06f1cb177a5d",
   "metadata": {},
   "outputs": [],
   "source": [
    "%matplotlib inline\n",
    "\n",
    "import datetime\n",
    "import os\n",
    "from glob import glob\n",
    "\n",
    "import matplotlib.pyplot as plt\n",
    "import matplotlib.ticker as ticker\n",
    "import matplotlib.patheffects as pe\n",
    "from mpl_toolkits.axes_grid1 import make_axes_locatable\n",
    "import numpy as np\n",
    "import pandas as pd\n",
    "import tqdm.notebook as tqdm\n",
    "import warnings\n",
    "\n",
    "from obspy import UTCDateTime, read_inventory\n",
    "from obspy.clients.fdsn import Client\n",
    "from obspy.clients.fdsn.client import FDSNNoDataException\n",
    "from obspy.signal import PPSD\n",
    "from mpl_toolkits.axes_grid1.inset_locator import zoomed_inset_axes\n",
    "\n",
    "from mpl_toolkits.basemap import Basemap\n",
    "\n",
    "%load_ext autoreload\n",
    "%autoreload 2\n",
    "from seismic_noise import *\n",
    "import seismosocialdistancing"
   ]
  },
  {
   "cell_type": "code",
   "execution_count": 2,
   "id": "0b5a6598-7ad7-4dfb-be28-48dc06f7b36e",
   "metadata": {},
   "outputs": [],
   "source": [
    "def add_subplot_axes(ax,rect):\n",
    "    fig = plt.gcf()\n",
    "    box = ax.get_position()\n",
    "    width = box.width\n",
    "    height = box.height\n",
    "    inax_position  = ax.transAxes.transform(rect[0:2])\n",
    "    transFigure = fig.transFigure.inverted()\n",
    "    infig_position = transFigure.transform(inax_position)    \n",
    "    x = infig_position[0]\n",
    "    y = infig_position[1]\n",
    "    width *= rect[2]\n",
    "    height *= rect[3]  # <= Typo was here\n",
    "    #subax = fig.add_axes([x,y,width,height],facecolor=facecolor)  # matplotlib 2.0+\n",
    "    subax = fig.add_axes([x,y,width,height])\n",
    "    x_labelsize = subax.get_xticklabels()[0].get_size()\n",
    "    y_labelsize = subax.get_yticklabels()[0].get_size()\n",
    "    x_labelsize *= rect[2]**0.5\n",
    "    y_labelsize *= rect[3]**0.5\n",
    "    # subax.xaxis.set_tick_params(labelsize=x_labelsize)\n",
    "    # subax.yaxis.set_tick_params(labelsize=y_labelsize)\n",
    "    return subax"
   ]
  },
  {
   "cell_type": "markdown",
   "id": "ee70ad55-9609-479b-a57d-cd68e579d6e6",
   "metadata": {},
   "source": [
    "---\n",
    "## Paramètre initiaux"
   ]
  },
  {
   "cell_type": "code",
   "execution_count": 3,
   "id": "13177272-65bc-4d25-994c-a08554ea6747",
   "metadata": {},
   "outputs": [],
   "source": [
    "PPSD_FOLDER  = \"/media/flavien/Flavien USB/Stages/noise_data/PPSD\"\n",
    "DRMS_FOLDER  = \"/media/flavien/Flavien USB/Stages/noise_data/DRMS\"\n",
    "MSEED_FOLDER = \"/media/flavien/Flavien USB/Stages/noise_data/MSEED\"\n",
    "DATA_FOLDER  = \"DATA\"\n",
    "freqs = [(0.01, 0.03), (0.1, 0.25), (0.3, 1), (1, 3), (5, 15), (20, 50)] # Bandes de fréquences à étudier\n",
    "freq = \"5.0-15.0\"\n",
    "freq_str = \"5.0-15.0\"\n",
    "\n",
    "tStart = \"2020-01-01\"\n",
    "tEnd   = \"2021-08-01\"\n",
    "\n",
    "st_file = \"DATA/st_metadata/stations_fr.xml\"\n",
    "\n",
    "# list_stations = [\"FR.STR.00.HHZ\", \"FR.CURIE.00.HHZ\", \"FR.BRGF.00.HHZ\"]\n",
    "list_stations = np.loadtxt(DATA_FOLDER + \"/st_metadata/stations_fr.txt\", dtype=str)\n",
    "# list_stations = [\"FR.ABJF.00.HHZ\"]"
   ]
  },
  {
   "cell_type": "code",
   "execution_count": 4,
   "id": "e3bc4886-2ba6-4bcf-879c-574448ef90bf",
   "metadata": {},
   "outputs": [],
   "source": [
    "tags = {\n",
    "    \"2020-03-17\": \"Lockdown 1\",\n",
    "    \"2020-05-11\": \"End lockdown\",\n",
    "    \"2020-10-30\": \"Lockdown 2\",\n",
    "    \"2020-12-15\": \"End lockdown + Curfew 20h\",\n",
    "    \"2020-12-25\": \"Christmas\",\n",
    "    \"2021-01-01\": \"New Year\",\n",
    "    \"2021-01-16\": \"Curfew 18h\",\n",
    "    \"2021-03-20\": \"Curfew 19h\",\n",
    "    \"2021-04-03\": \"Lockdown 3\",\n",
    "    \"2021-05-03\": \"End of certificate\",\n",
    "    \"2021-05-19\": \"Curfew 21h + Shops open\",\n",
    "    \"2021-06-09\": \"Curfew 23h + Restaurants open\",\n",
    "    \"2021-06-30\": \"End Curfew\"\n",
    "}\n",
    "dates_tags = pd.to_datetime(([key for key in tags.keys()]))\n",
    "desc_tags = [(value) for value in tags.values()]"
   ]
  },
  {
   "cell_type": "code",
   "execution_count": 5,
   "id": "50b95a59-e7a1-48b7-9a19-695d06f43736",
   "metadata": {},
   "outputs": [],
   "source": [
    "ref_per = (pd.Timestamp(\"2020-01-01\"), pd.Timestamp(\"2020-03-01\"))\n",
    "list_per = {\n",
    "    \"per1\": ( pd.Timestamp(\"2020-03-17\"),pd.Timestamp(\"2020-05-11\") ),\n",
    "    \"per2\": ( pd.Timestamp(\"2020-10-30\"),pd.Timestamp(\"2020-12-15\") ),\n",
    "    \"per3\": ( pd.Timestamp(\"2021-04-03\"),pd.Timestamp(\"2021-05-03\") )\n",
    "}\n",
    "\n",
    "desc = [\"LOCKDOWN 1\", \"LOCKDOWN 2\", \"LOCKDOWN 3\"]"
   ]
  },
  {
   "cell_type": "code",
   "execution_count": 6,
   "id": "1e79a93a-9aa4-4b5b-86e2-7929f4d4e143",
   "metadata": {},
   "outputs": [
    {
     "data": {
      "text/plain": [
       "{'per1': {'st_refmed': [], 'st_permed': [], 'st_var': []},\n",
       " 'per2': {'st_refmed': [], 'st_permed': [], 'st_var': []},\n",
       " 'per3': {'st_refmed': [], 'st_permed': [], 'st_var': []}}"
      ]
     },
     "execution_count": 6,
     "metadata": {},
     "output_type": "execute_result"
    }
   ],
   "source": [
    "maps_data = {}\n",
    "\n",
    "for key, val in list_per.items():\n",
    "    maps_data[key] = {\"st_refmed\":[], \"st_permed\":[], \"st_var\":[]}\n",
    "\n",
    "maps_data"
   ]
  },
  {
   "cell_type": "markdown",
   "id": "b762d3df-4469-4cbc-853a-0bf2354e9db7",
   "metadata": {},
   "source": [
    "---\n",
    "# Récupération des données"
   ]
  },
  {
   "cell_type": "code",
   "execution_count": 7,
   "id": "22c24f6b-c615-4da9-85b7-cd95dc037d9f",
   "metadata": {},
   "outputs": [],
   "source": [
    "tStart = pd.Timestamp(tStart)\n",
    "tEnd = pd.Timestamp(tEnd)\n",
    "nDays = (tEnd - tStart).days\n",
    "dates = pd.date_range(tStart, periods=nDays, freq=\"D\")\n",
    "dfDates = pd.DataFrame(index=dates)"
   ]
  },
  {
   "cell_type": "code",
   "execution_count": 8,
   "id": "543e5739-54fc-40fc-830e-044e598bdf26",
   "metadata": {},
   "outputs": [
    {
     "name": "stderr",
     "output_type": "stream",
     "text": [
      "  0%|                                                                                             | 0/3 [00:00<?, ?it/s]/home/flavien/anaconda3/lib/python3.8/site-packages/numpy/lib/nanfunctions.py:1113: RuntimeWarning: All-NaN slice encountered\n",
      "  r, k = function_base._ureduce(a, func=_nanmedian, axis=axis, out=out,\n",
      "100%|█████████████████████████████████████████████████████████████████████████████████████| 3/3 [00:30<00:00, 10.02s/it]\n"
     ]
    }
   ],
   "source": [
    "for key, val in tqdm.tqdm(list_per.items()):\n",
    "\n",
    "    med_values = []\n",
    "    st_list = []\n",
    "\n",
    "    st_refmed = []\n",
    "    st_permed = []\n",
    "    st_var    = []\n",
    "\n",
    "    for j, st_str in enumerate(list_stations):\n",
    "        # name = \"{}_{}_{}\".format(st_str, str(periods[i][0])[:10], str(periods[i][1])[:10])\n",
    "\n",
    "        ### Calcul du déplacement RMS de la station\n",
    "        try:\n",
    "            dataframe = pd.read_csv(\"{}/{}.csv\".format(DRMS_FOLDER, st_str), index_col=0)\n",
    "            dataframe.index = pd.to_datetime(dataframe.index)\n",
    "            dRMS = dataframe.copy()\n",
    "        except:\n",
    "\n",
    "            st_refmed.append(np.nan)\n",
    "            st_permed.append(np.nan)\n",
    "            st_var.append(np.nan)\n",
    "\n",
    "            continue\n",
    "\n",
    "        ### Conversion heures locales\n",
    "        dRMS = dRMS.copy().tz_localize(\"UTC\").tz_convert(\"Europe/Brussels\").tz_localize(None).resample(\"30Min\").mean()\n",
    "\n",
    "        st_list = np.append(st_list, st_str)    \n",
    "\n",
    "        ### On garde les données dans la période temporelle qui nous intéresse\n",
    "        mask_time = (dRMS.index > tStart) & (dRMS.index <= tEnd)\n",
    "        dRMS = dRMS.loc[mask_time]\n",
    "\n",
    "        dRMS_ref = dRMS.loc[(dRMS.index > ref_per[0]) & (dRMS.index <= ref_per[1])]\n",
    "        dRMS_per = dRMS.loc[(dRMS.index > list_per[key][0]) & (dRMS.index <= list_per[key][1])]\n",
    "        # dRMS = dRMS.copy().tz_localize(\"UTC\").dropna().tz_convert(\"Europe/Brussels\").tz_localize(None).resample(\"30Min\").mean()\n",
    "\n",
    "        ### Récupération du bruit\n",
    "        dRMS_med = dRMS[freq].between_time(\"6:00\", \"16:00\").resample(\"1D\").median()\n",
    "        dRMS_med = dfDates.join(dRMS_med, how='outer')\n",
    "\n",
    "        dRMS_ref = dRMS_ref[freq].between_time(\"6:00\", \"16:00\").resample(\"1D\").median()\n",
    "        dRMS_ref = dfDates.join(dRMS_ref, how='outer')\n",
    "\n",
    "        dRMS_per = dRMS_per[freq].between_time(\"6:00\", \"16:00\").resample(\"1D\").median()\n",
    "        dRMS_per = dfDates.join(dRMS_per, how='outer')\n",
    "\n",
    "        ref_median = np.nanmedian(dRMS_ref)\n",
    "        per_median = np.nanmedian(dRMS_per)\n",
    "        noise_var = (per_median - ref_median) / ref_median * 100\n",
    "\n",
    "        st_refmed.append(ref_median)\n",
    "        st_permed.append(per_median)\n",
    "        st_var.append(noise_var)\n",
    "\n",
    "    maps_data[key][\"st_refmed\"] = st_refmed\n",
    "    maps_data[key][\"st_permed\"] = st_permed\n",
    "    maps_data[key][\"st_var\"] = st_var\n",
    "    "
   ]
  },
  {
   "cell_type": "code",
   "execution_count": 9,
   "id": "7dca1ae5-03e3-48aa-9cfa-7ff4758cf153",
   "metadata": {},
   "outputs": [
    {
     "name": "stdout",
     "output_type": "stream",
     "text": [
      "-14.1704727913 -2.02023253106 -2.7332675415\n"
     ]
    }
   ],
   "source": [
    "print(maps_data[\"per1\"][\"st_var\"][5], maps_data[\"per2\"][\"st_var\"][5], maps_data[\"per3\"][\"st_var\"][5])"
   ]
  },
  {
   "cell_type": "code",
   "execution_count": null,
   "id": "33243260-0768-4adb-b006-c597ccc4b786",
   "metadata": {},
   "outputs": [],
   "source": [
    "plt.figure(figsize=(15.6, 5.2))\n",
    "N = 3\n",
    "\n",
    "for k, key in enumerate(maps_data.keys()):\n",
    "    \n",
    "    ax = plt.subplot(1,N,k+1)\n",
    "    \n",
    "    c_var = maps_data[key][\"st_var\"]\n",
    "    # c_var = [-200 if not (x<=0 or x>=0) else x for x in maps_data[key][\"st_var\"]]\n",
    "\n",
    "    inventory = read_inventory(st_file)\n",
    "    lat = [ inventory.networks[j].stations[i].latitude for j in range(len(inventory.networks)) for i in range(len(inventory.networks[j].stations)) ]\n",
    "    lon = [ inventory.networks[j].stations[i].longitude for j in range(len(inventory.networks)) for i in range(len(inventory.networks[j].stations)) ]\n",
    "\n",
    "    \n",
    "    latmin = 41\n",
    "    latmax = 54\n",
    "    lonmin = -4.95\n",
    "    lonmax = 13\n",
    "    resol = \"h\"\n",
    "    bar_width = 500\n",
    "    bar_pos = 4\n",
    "\n",
    "    # Définition du type de carte\n",
    "    m = Basemap(llcrnrlon=lonmin,llcrnrlat=latmin,urcrnrlon=lonmax,urcrnrlat=latmax,\\\n",
    "                width=12000000,height=9000000,\\\n",
    "                rsphere=(6378137.00,6356752.3142), epsg=5520,\\\n",
    "                resolution=resol,area_thresh=1000.,projection='cyl',\\\n",
    "                lat_1=latmin,lat_2=lonmin,lat_0=latmax,lon_0=lonmax)\n",
    "    \n",
    "    \n",
    "\n",
    "    m.drawcountries(linewidth=1, zorder=10)\n",
    "    m.drawcoastlines(linewidth=1, zorder=10)\n",
    "    parallels = np.arange(latmin, latmax,4.)\n",
    "    meridians = np.arange(-5, lonmax,4.)\n",
    "    if k !=0:\n",
    "        m.drawparallels(parallels,labels=[False,False,False,False], color=\"#7D7D7D\", zorder=1, linewidth=1)\n",
    "        m.drawmeridians(meridians,labels=[False,False,False,True], color=\"#7D7D7D\", zorder=1, linewidth=1)\n",
    "    else:\n",
    "        m.drawparallels(parallels,labels=[True,False,False,False], color=\"#7D7D7D\", zorder=1, linewidth=1)\n",
    "        m.drawmeridians(meridians,labels=[False,False,False,True], color=\"#7D7D7D\", zorder=1, linewidth=1) \n",
    "    # m.drawmapboundary(fill_color='#85C1E9')\n",
    "    # m.fillcontinents(color='tan',lake_color='lightblue')\n",
    "    \n",
    "    # m.shadedrelief()\n",
    "    m.fillcontinents(color='coral',lake_color='aqua')\n",
    "    \n",
    "    t1 = list_per[key][0].strftime('%Y-%m-%d')\n",
    "    t2 = list_per[key][1].strftime('%Y-%m-%d')\n",
    "    ax.set_title(\"{}\\n{} to {}\".format(desc[k], t1, t2), loc=\"left\", fontweight=\"bold\", fontsize=10)\n",
    "\n",
    "    lon, lat  = m(lon, lat)\n",
    "    m.scatter(lon, lat, s=40, marker=\"o\", zorder=20, edgecolors='black', c=c_var, alpha=1, cmap=plt.cm.get_cmap('seismic', 1000), vmin=-100, vmax=100)\n",
    "    # if k==2 : m.colorbar(pad=0.25, aspect=0)\n",
    "    # else    : m.colorbar(pad=0.25)\n",
    "    \n",
    "    # Subplot IN\n",
    "    Lbins = 23\n",
    "    Nbins = np.arange(-100, 100 + Lbins, Lbins)\n",
    "    \n",
    "    subpos = [0.65,0.65,0.35,0.35]   \n",
    "    subax = add_subplot_axes(ax,subpos)\n",
    "    subaxX = subax.twinx()\n",
    "    subax.patch.set_alpha(0.85)\n",
    "    subaxY = subax.twiny()\n",
    "    subaxX.hist(c_var, bins=Nbins, rwidth=0.8, color=\"#4C84AD\")\n",
    "    subaxY.set_xlim(-100, 100)\n",
    "    subaxX.set_xlim(-100, 100)\n",
    "    subaxX.set_ylim(0, 76)\n",
    "    subaxX.tick_params(direction=\"in\", which=\"both\", top=True, right=True)\n",
    "    subaxY.tick_params(direction=\"in\", which=\"both\", top=True, right=True)\n",
    "    subax.tick_params(labelleft=False, left=False, labelbottom=False, bottom=False)\n",
    "    subaxX.set_ylabel(\"Number of stations\")\n",
    "    subaxY.set_xlabel(\"Noise variations [%]\")\n",
    "    subaxY.axvline(np.nanmedian(c_var), ls='--', lw=1.45, color=\"darkred\")\n",
    "    print(np.nanmedian(c_var))\n",
    "\n",
    "plt.savefig('RESULTS/FIG_PAPER_FR/FIG1_noise_maps.png', dpi=150)\n",
    "plt.show()  "
   ]
  },
  {
   "cell_type": "code",
   "execution_count": null,
   "id": "616cd2dd-20cc-4613-a052-360bc7a9b043",
   "metadata": {},
   "outputs": [],
   "source": []
  }
 ],
 "metadata": {
  "kernelspec": {
   "display_name": "Python 3 (ipykernel)",
   "language": "python",
   "name": "python3"
  },
  "language_info": {
   "codemirror_mode": {
    "name": "ipython",
    "version": 3
   },
   "file_extension": ".py",
   "mimetype": "text/x-python",
   "name": "python",
   "nbconvert_exporter": "python",
   "pygments_lexer": "ipython3",
   "version": "3.8.5"
  }
 },
 "nbformat": 4,
 "nbformat_minor": 5
}
