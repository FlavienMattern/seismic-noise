{
 "cells": [
  {
   "cell_type": "markdown",
   "metadata": {},
   "source": [
    "\n",
    "\n",
    "# VARIATIONS TEMPORELLES DU BRUIT EN ANTARCTIQUE"
   ]
  },
  {
   "cell_type": "markdown",
   "metadata": {},
   "source": [
    "---\n",
    "\n",
    "**Description du Notebook :**\n",
    "> Dans ce notebook est étudié comment le bruit sismique à évolué avec les différentes mesures sanitaires mises en place par le gouvernement.\n"
   ]
  },
  {
   "cell_type": "markdown",
   "metadata": {},
   "source": [
    "---\n",
    "# Importation des modules"
   ]
  },
  {
   "cell_type": "code",
   "execution_count": 62,
   "metadata": {},
   "outputs": [
    {
     "name": "stdout",
     "output_type": "stream",
     "text": [
      "The autoreload extension is already loaded. To reload it, use:\n",
      "  %reload_ext autoreload\n"
     ]
    }
   ],
   "source": [
    "%matplotlib inline\n",
    "\n",
    "import datetime\n",
    "import os\n",
    "from glob import glob\n",
    "\n",
    "import matplotlib.pyplot as plt\n",
    "import matplotlib.ticker as ticker\n",
    "import matplotlib.patheffects as pe\n",
    "from mpl_toolkits.axes_grid1 import make_axes_locatable\n",
    "import numpy as np\n",
    "import pandas as pd\n",
    "import tqdm.notebook as tqdm\n",
    "import warnings\n",
    "\n",
    "from obspy import UTCDateTime, read\n",
    "from obspy.clients.fdsn import Client\n",
    "from obspy.clients.fdsn.client import FDSNNoDataException\n",
    "from obspy.signal import PPSD\n",
    "\n",
    "%load_ext autoreload\n",
    "%autoreload 2\n",
    "from seismic_noise import *\n",
    "import seismosocialdistancing"
   ]
  },
  {
   "cell_type": "markdown",
   "metadata": {},
   "source": [
    "---\n",
    "# 1. Récupération des données"
   ]
  },
  {
   "cell_type": "markdown",
   "metadata": {},
   "source": [
    "### Paramètres initiaux"
   ]
  },
  {
   "cell_type": "code",
   "execution_count": 63,
   "metadata": {},
   "outputs": [],
   "source": [
    "### Paramètres généraux\n",
    "load_data = False              # Recalculer les PPSDs et le déplacement RMS\n",
    "freqs = [(2.0,8.0)]          # Bandes de fréquences à étudier \n",
    "st_file = \"DATA/st_metadata/stations_antarctic.txt\"  # Fichier de stations\n",
    "noise_input_data = \"B:/SeismicNoiseData/\"\n",
    "timeseries_data = \"Files/noise_timeseries/\"\n",
    "PPSD_FOLDER  = \"C:/Users/minid/documents/Travail/PPSD\"\n",
    "DRMS_FOLDER  = \"C:/Users/minid/documents/Travail/DRMS\"\n",
    "MSEED_FOLDER = \"C:/Users/minid/documents/Travail/MSEED\"\n",
    "FIG_FOLDER = \"RESULTS\"\n",
    "tStart = \"2020-01-01\"\n",
    "tEnd = \"2020-12-31\"\n",
    "\n",
    "### Conversion des périodes en UTCDateTime\n",
    "periods = [[UTCDateTime(tStart), UTCDateTime(tEnd)]]"
   ]
  },
  {
   "cell_type": "markdown",
   "metadata": {},
   "source": [
    "### Récupération des PPSDs et du déplacement RMS"
   ]
  },
  {
   "cell_type": "code",
   "execution_count": 64,
   "metadata": {},
   "outputs": [],
   "source": [
    "st_name = np.loadtxt(st_file, dtype=str)\n",
    "st_name = [\"G.DRV.00.BHZ\"]   # Station à étudier\n",
    "dRMS = {}\n",
    "for st_str in st_name:\n",
    "    try:\n",
    "        dataframe = pd.read_csv(\"{}/{}.csv\".format(DRMS_FOLDER, st_str), index_col=0)\n",
    "        dRMS[st_str] = dataframe\n",
    "    except:\n",
    "        pass\n",
    "st_name = list(dRMS.keys())"
   ]
  },
  {
   "cell_type": "code",
   "execution_count": 65,
   "metadata": {},
   "outputs": [
    {
     "data": {
      "text/plain": [
       "dict_keys(['G.DRV.00.BHZ'])"
      ]
     },
     "execution_count": 65,
     "metadata": {},
     "output_type": "execute_result"
    }
   ],
   "source": [
    "dRMS.keys()"
   ]
  },
  {
   "cell_type": "markdown",
   "metadata": {},
   "source": [
    "---\n",
    "# 2. Variations horaires du bruit"
   ]
  },
  {
   "cell_type": "markdown",
   "metadata": {},
   "source": [
    "## 2.1 Calcul de variations sur toute la période donnée"
   ]
  },
  {
   "cell_type": "markdown",
   "metadata": {},
   "source": [
    "#### Tags à afficher sur le graphique"
   ]
  },
  {
   "cell_type": "code",
   "execution_count": 66,
   "metadata": {},
   "outputs": [],
   "source": [
    "# à changer selon ce que l'on veut\n",
    "\n",
    "tags = [\n",
    "    (\"2019-03-01\", 6, \"hiver\"),\n",
    "    (\"2019-10-01\", 6, \"été\"),\n",
    "]"
   ]
  },
  {
   "cell_type": "code",
   "execution_count": 67,
   "metadata": {
    "tags": []
   },
   "outputs": [
    {
     "name": "stdout",
     "output_type": "stream",
     "text": [
      "1/1    G.DRV.00.BHZ\n"
     ]
    },
    {
     "data": {
      "text/plain": [
       "<Figure size 432x288 with 0 Axes>"
      ]
     },
     "metadata": {},
     "output_type": "display_data"
    }
   ],
   "source": [
    "### Calcul de la variation du bruit\n",
    "\n",
    "#décalage horaire été CCD\n",
    "#deca_hor=6\n",
    "\n",
    "#décalage horaire été DRV\n",
    "deca_hor=10\n",
    "\n",
    "#indice pour concatener la matrice pour prendre en compte le décalage horaire\n",
    "indice=48-deca_hor*2\n",
    "\n",
    "\n",
    "k = 1\n",
    "for st_str in st_name:\n",
    "    print(\"{}/{}    {}\".format(k, len(st_name), st_str))\n",
    "    for freq in dRMS[st_str].columns:\n",
    "\n",
    "        try:\n",
    "            noise = dRMS[st_str][freq]  # Série temporelle du bruit\n",
    "        except:\n",
    "            continue\n",
    "        t, h, noise_matrix = hourly_var(noise, periods)\n",
    "        grid = noise_matrix * 1e9  # Données en [nm]\n",
    "        a=grid[:indice]\n",
    "        b=grid[indice:]\n",
    "        new_grid=np.concatenate((b,a))\n",
    "\n",
    "\n",
    "        ### Mise en graphique de la variation du bruit\n",
    "        plt.figure(figsize=(16, 8))\n",
    "        plt.pcolormesh(t, h+0.25, new_grid)\n",
    "        plt.clim(np.nanquantile(new_grid, 0.05), np.nanquantile(new_grid, 0.95))\n",
    "        plt.colorbar(label=\"Déplacement [nm]\")\n",
    "\n",
    "        '''        ### Affichage des tags\n",
    "        for (date, hour, text) in tags:\n",
    "            # plt.scatter(np.datetime64(date), hour, zorder=50, s=40, color=\"red\", edgecolors=\"white\")\n",
    "            plt.axvline(np.datetime64(date), zorder=50, color=\"white\", ls=\"-\")\n",
    "            plt.text(np.datetime64(date)-8, 0.75, text, color=\"white\", fontsize=\"medium\", rotation=90)   # Confinement 1\n",
    "        '''\n",
    "        ### Configuration de l'axe vertical\n",
    "        plt.ylabel(\"Heure locale\")\n",
    "        y_ticks = [\"%ih\" % j for j in range(1, 24)]\n",
    "        y_loc = [j for j in range(1, 24)]\n",
    "        plt.yticks(y_loc, y_ticks)\n",
    "        plt.title(\"{} - [{}] Hz\".format(st_str, freq))\n",
    "        folder_path = FIG_FOLDER + \"/ant_hourly_variations/\" + st_str\n",
    "\n",
    "        if not os.path.exists(folder_path): os.makedirs(folder_path)\n",
    "        plt.savefig(\"{}/hourly_temporal_2020-{}.png\".format(folder_path, freq), dpi=150)\n",
    "        plt.close()\n",
    "        plt.clf()\n",
    "        \n",
    "    k += 1\n",
    "    \n",
    "plt.show()"
   ]
  },
  {
   "cell_type": "markdown",
   "metadata": {},
   "source": [
    "## 2.2 Calcul de variations horaires sur plusieurs sous-périodes"
   ]
  },
  {
   "cell_type": "code",
   "execution_count": 68,
   "metadata": {},
   "outputs": [
    {
     "name": "stdout",
     "output_type": "stream",
     "text": [
      "{'G.DRV.00.BHZ':                           2.0-8.0\n",
      "2010-01-01 00:00:00  1.231929e-09\n",
      "2010-01-01 00:30:00  1.606896e-10\n",
      "2010-01-01 01:00:00  1.780034e-10\n",
      "2010-01-01 01:30:00  2.902890e-10\n",
      "2010-01-01 02:00:00  2.117615e-10\n",
      "...                           ...\n",
      "2020-12-01 21:30:00  6.388435e-10\n",
      "2020-12-01 22:00:00  5.616992e-10\n",
      "2020-12-01 22:30:00  2.871893e-10\n",
      "2020-12-01 23:00:00  6.678938e-10\n",
      "2020-12-01 23:30:00  3.611758e-10\n",
      "\n",
      "[190621 rows x 1 columns]}\n"
     ]
    }
   ],
   "source": [
    "print(dRMS)"
   ]
  },
  {
   "cell_type": "code",
   "execution_count": null,
   "metadata": {},
   "outputs": [],
   "source": [
    "### Paramètres à changer\n",
    "freq = \"2.0-8.0\"\n",
    "st_name = \"G.DRV.00.BHZ\"\n",
    "#summer\n",
    "periods = [[[UTCDateTime(\"2010-10-01\"),UTCDateTime(\"2011-03-01\")]],[[UTCDateTime(\"2011-10-01\"),UTCDateTime(\"2012-03-01\")]],[[UTCDateTime(\"2012-10-01\"),UTCDateTime(\"2013-03-01\")]],[[UTCDateTime(\"2013-10-01\"),UTCDateTime(\"2014-03-01\")]],[[UTCDateTime(\"2014-10-01\"),UTCDateTime(\"2015-03-01\")]],[[UTCDateTime(\"2015-10-01\"),UTCDateTime(\"2016-03-01\")]],[[UTCDateTime(\"2016-10-01\"),UTCDateTime(\"2017-03-01\")]],[[UTCDateTime(\"2017-10-01\"),UTCDateTime(\"2018-03-01\")]],[[UTCDateTime(\"2018-10-01\"),UTCDateTime(\"2019-03-01\")]],[[UTCDateTime(\"2019-10-01\"),UTCDateTime(\"2020-03-01\")]]]\n",
    "###\n",
    "#winter\n",
    "#periods = [[[UTCDateTime(\"2012-03-01\"),UTCDateTime(\"2012-10-01\")]],[[UTCDateTime(\"2013-03-01\"),UTCDateTime(\"2013-10-01\")]],[[UTCDateTime(\"2014-03-01\"),UTCDateTime(\"2014-10-01\")]],[[UTCDateTime(\"2015-03-01\"),UTCDateTime(\"2015-10-01\")]],[[UTCDateTime(\"2016-03-01\"),UTCDateTime(\"2016-10-01\")]],[[UTCDateTime(\"2017-03-01\"),UTCDateTime(\"2017-10-01\")]],[[UTCDateTime(\"2018-03-01\"),UTCDateTime(\"2018-10-01\")]],[[UTCDateTime(\"2019-03-01\"),UTCDateTime(\"2019-10-01\")]],[[UTCDateTime(\"2020-03-01\"),UTCDateTime(\"2020-10-01\")]]]\n",
    "\n",
    "\n",
    "new_median=[]\n",
    "\n",
    "for i in periods :\n",
    "\n",
    "    name = \"{}{}_{}\".format(st_name, i[0][0].strftime('%Y-%m-%d'), i[0][1].strftime('%Y-%m-%d'))\n",
    "    noise = dRMS[st_name][freq]\n",
    "    t, h, noise_matrix = hourly_var(noise, i)\n",
    "    median1 = np.nanmedian(noise_matrix, axis=1)\n",
    "    new_median.append(median1.tolist()[indice:] + median1.tolist()[0:indice])\n",
    "\n",
    "\n",
    "plt.rcParams['figure.figsize'] = 20, 10\n",
    "plt.rcParams[\"axes.facecolor\"] = 'g'\n",
    "plt.title('Median hourly displacement comparison')\n",
    "plt.xlabel('Hours')\n",
    "plt.ylabel('Displacement (m)' )\n",
    "c1=2010\n",
    "colors=0\n",
    "for i in new_median :\n",
    "#for i in median1 :\n",
    "    c2=c1\n",
    "    c1=c1+1\n",
    "    colors=colors+0.1\n",
    "    col=str(colors)\n",
    "    plt.plot(h,i,label='Summer '+str(c2)+'-' +str(c1),color=col)\n",
    "\n",
    "#plt.plot(test3,test2,color='r', linewidth=2.5,linestyle=\"--\",label='')\n",
    "plt.xticks(np.arange(0, 24, 1), np.arange(0, 24, 1))\n",
    "plt.grid()\n",
    "plt.legend(fontsize=15)\n",
    "plt.show()"
   ]
  },
  {
   "cell_type": "markdown",
   "metadata": {},
   "source": [
    "# Version France Flavien (pas fonctionnel)"
   ]
  },
  {
   "cell_type": "code",
   "execution_count": 26,
   "metadata": {},
   "outputs": [],
   "source": [
    "subperiods = [\n",
    "    [\"2010-01-01\", \"2010-05-31\", \"début\", \"red\"],\n",
    "    [\"2010-06-01\", \"2010-12-31\", \"début\", \"blue\"],\n",
    "    [\"2011-01-01\", \"2011-12-31\", \"début\", \"green\"]\n",
    "]"
   ]
  },
  {
   "cell_type": "code",
   "execution_count": 10,
   "metadata": {},
   "outputs": [
    {
     "name": "stdout",
     "output_type": "stream",
     "text": [
      "1/12    G\n"
     ]
    },
    {
     "ename": "KeyError",
     "evalue": "'G'",
     "output_type": "error",
     "traceback": [
      "\u001b[1;31m---------------------------------------------------------------------------\u001b[0m",
      "\u001b[1;31mKeyError\u001b[0m                                  Traceback (most recent call last)",
      "\u001b[1;32m~\\AppData\\Local\\Temp/ipykernel_6060/213543211.py\u001b[0m in \u001b[0;36m<module>\u001b[1;34m\u001b[0m\n\u001b[0;32m      3\u001b[0m \u001b[1;32mfor\u001b[0m \u001b[0mst_str\u001b[0m \u001b[1;32min\u001b[0m \u001b[0mst_name\u001b[0m\u001b[1;33m:\u001b[0m\u001b[1;33m\u001b[0m\u001b[1;33m\u001b[0m\u001b[0m\n\u001b[0;32m      4\u001b[0m     \u001b[0mprint\u001b[0m\u001b[1;33m(\u001b[0m\u001b[1;34m\"{}/{}    {}\"\u001b[0m\u001b[1;33m.\u001b[0m\u001b[0mformat\u001b[0m\u001b[1;33m(\u001b[0m\u001b[0mk\u001b[0m\u001b[1;33m,\u001b[0m \u001b[0mlen\u001b[0m\u001b[1;33m(\u001b[0m\u001b[0mst_name\u001b[0m\u001b[1;33m)\u001b[0m\u001b[1;33m,\u001b[0m \u001b[0mst_str\u001b[0m\u001b[1;33m)\u001b[0m\u001b[1;33m)\u001b[0m\u001b[1;33m\u001b[0m\u001b[1;33m\u001b[0m\u001b[0m\n\u001b[1;32m----> 5\u001b[1;33m     \u001b[1;32mfor\u001b[0m \u001b[0mfreq\u001b[0m \u001b[1;32min\u001b[0m \u001b[0mdRMS\u001b[0m\u001b[1;33m[\u001b[0m\u001b[0mst_str\u001b[0m\u001b[1;33m]\u001b[0m\u001b[1;33m.\u001b[0m\u001b[0mcolumns\u001b[0m\u001b[1;33m:\u001b[0m\u001b[1;33m\u001b[0m\u001b[1;33m\u001b[0m\u001b[0m\n\u001b[0m\u001b[0;32m      6\u001b[0m \u001b[1;33m\u001b[0m\u001b[0m\n\u001b[0;32m      7\u001b[0m         \u001b[1;32mtry\u001b[0m\u001b[1;33m:\u001b[0m\u001b[1;33m\u001b[0m\u001b[1;33m\u001b[0m\u001b[0m\n",
      "\u001b[1;31mKeyError\u001b[0m: 'G'"
     ]
    }
   ],
   "source": [
    "k = 1\n",
    "\n",
    "for st_str in st_name:\n",
    "    print(\"{}/{}    {}\".format(k, len(st_name), st_str))\n",
    "    for freq in dRMS[st_str].columns:\n",
    "\n",
    "        try:\n",
    "            noise = dRMS[st_str][freq]  # Série temporelle du bruit\n",
    "        except:\n",
    "            continue\n",
    "\n",
    "        t, h, noise_matrix = hourly_var(noise, periods)\n",
    "        grid = noise_matrix * 1e9  # Données en [nm]\n",
    "        \n",
    "        # h = np.append(h[8:], h[:8])\n",
    "\n",
    "        ### Calcul du bruit pour que sous-période\n",
    "        plt.figure(figsize=(12, 6))\n",
    "        for i, value in enumerate(subperiods):\n",
    "            time1 = np.datetime64(subperiods[i][0])\n",
    "            time2 = np.datetime64(subperiods[i][1])\n",
    "            print(time1,time2)\n",
    "            color = subperiods[i][3]\n",
    "            label = \"{} to {} : {}\".format(subperiods[i][0], subperiods[i][1], subperiods[i][2])\n",
    "            k1 = np.where(t == time1)[0][0]\n",
    "            k2 = np.where(t == time2)[0][0]\n",
    "            \n",
    "\n",
    "            median = np.nanmedian(grid[:,k1:k2], axis=1)\n",
    "            median = np.append(median[8:], median[:8])\n",
    "            \n",
    "            #if subperiods[i][2]==\"No lockdown\": plt.plot(h, median, label=label, color=color, lw=2, ls=\"--\")\n",
    "            plt.plot(h, median, label=label, color=color, lw=2)\n",
    "\n",
    "        ### Mise en graphique\n",
    "        plt.tick_params(direction=\"in\", which=\"both\", top=True, right=True)\n",
    "        plt.title(\"{} - [{}] Hz\".format(st_str,freq))\n",
    "        plt.grid(color=\"#D5D5D5\", linestyle='--', linewidth=1)\n",
    "        # plt.ylabel(\"Median displacement [nm]\")\n",
    "        plt.xlim([0, 23.5])\n",
    "        h_tick = np.append(np.arange(4, 23, 2), np.arange(0, 4, 2))\n",
    "        h_label = [\"4h\",\"6h\",\"8h\",\"10h\",\"12h\",\"14h\",\"16h\",\"18h\",\"20h\",\"22h\", \"0h\", \"2h\"]\n",
    "        plt.xticks(np.arange(0, 23, 2), h_label)\n",
    "        # plt.xticks(np.arange(0, 23, 2), [\"0h\",\"2h\",\"4h\",\"6h\",\"8h\",\"10h\",\"12h\",\"14h\",\"16h\",\"18h\",\"20h\",\"22h\"])\n",
    "\n",
    "        plt.legend(loc=\"upper left\",   # Position of legend\n",
    "                   borderaxespad=0.2,    # Small spacing around legend box\n",
    "                   bbox_to_anchor=(-0.1, -0.1),\n",
    "                   ncol=3)\n",
    "\n",
    "        plt.tight_layout()\n",
    "\n",
    "        folder_path = FIG_FOLDER + \"/ant_hourly_variations/\" + st_str\n",
    "\n",
    "        if not os.path.exists(folder_path): os.makedirs(folder_path)\n",
    "\n",
    "        plt.savefig(\"{}/hourly_periods_{}.png\".format(folder_path, freq), dpi=150)\n",
    "        plt.close()\n",
    "        plt.clf()\n",
    "\n",
    "    k += 1"
   ]
  },
  {
   "cell_type": "code",
   "execution_count": null,
   "metadata": {},
   "outputs": [],
   "source": []
  }
 ],
 "metadata": {
  "celltoolbar": "Format de la Cellule Texte Brut",
  "kernelspec": {
   "display_name": "Python 3 (ipykernel)",
   "language": "python",
   "name": "python3"
  },
  "language_info": {
   "codemirror_mode": {
    "name": "ipython",
    "version": 3
   },
   "file_extension": ".py",
   "mimetype": "text/x-python",
   "name": "python",
   "nbconvert_exporter": "python",
   "pygments_lexer": "ipython3",
   "version": "3.7.10"
  }
 },
 "nbformat": 4,
 "nbformat_minor": 4
}
