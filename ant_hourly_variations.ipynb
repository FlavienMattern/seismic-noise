{
 "cells": [
  {
   "cell_type": "markdown",
   "metadata": {},
   "source": [
    "\n",
    "\n",
    "# VARIATIONS TEMPORELLES DU BRUIT EN ANTARCTIQUE"
   ]
  },
  {
   "cell_type": "markdown",
   "metadata": {},
   "source": [
    "---\n",
    "\n",
    "**Description du Notebook :**\n",
    "> Dans ce notebook est étudié comment le bruit sismique à évolué avec les différentes mesures sanitaires mises en place par le gouvernement.\n"
   ]
  },
  {
   "cell_type": "markdown",
   "metadata": {},
   "source": [
    "---\n",
    "# Importation des modules"
   ]
  },
  {
   "cell_type": "code",
   "execution_count": 1,
   "metadata": {},
   "outputs": [],
   "source": [
    "%matplotlib inline\n",
    "\n",
    "import datetime\n",
    "import os\n",
    "from glob import glob\n",
    "\n",
    "import matplotlib.pyplot as plt\n",
    "import matplotlib.ticker as ticker\n",
    "import matplotlib.patheffects as pe\n",
    "from mpl_toolkits.axes_grid1 import make_axes_locatable\n",
    "import numpy as np\n",
    "import pandas as pd\n",
    "import tqdm.notebook as tqdm\n",
    "import warnings\n",
    "\n",
    "from obspy import UTCDateTime, read\n",
    "from obspy.clients.fdsn import Client\n",
    "from obspy.clients.fdsn.client import FDSNNoDataException\n",
    "from obspy.signal import PPSD\n",
    "\n",
    "%load_ext autoreload\n",
    "%autoreload 2\n",
    "from seismic_noise import *\n",
    "import seismosocialdistancing"
   ]
  },
  {
   "cell_type": "markdown",
   "metadata": {},
   "source": [
    "---\n",
    "# 1. Récupération des données"
   ]
  },
  {
   "cell_type": "markdown",
   "metadata": {},
   "source": [
    "### Paramètres initiaux"
   ]
  },
  {
   "cell_type": "code",
   "execution_count": 2,
   "metadata": {},
   "outputs": [],
   "source": [
    "### Paramètres généraux\n",
    "load_data = False              # Recalculer les PPSDs et le déplacement RMS\n",
    "freqs = [(6.0,7.0)]          # Bandes de fréquences à étudier \n",
    "st_file = \"DATA/st_metadata/stations_antarctic.txt\"  # Fichier de stations\n",
    "noise_input_data = \"B:/SeismicNoiseData/\"\n",
    "timeseries_data = \"Files/noise_timeseries/\"\n",
    "PPSD_FOLDER  = \"C:/Users/Arnaud/Desktop/Travail/Projet de Recherche/SeismicNoiseData/PPSD\"\n",
    "DRMS_FOLDER  = \"C:/Users/Arnaud/Desktop/Travail/Projet de Recherche/SeismicNoiseData/DRMS\"\n",
    "MSEED_FOLDER = \"C:/Users/Arnaud/Desktop/Travail/Projet de Recherche/SeismicNoiseData/MSEED\"\n",
    "FIG_FOLDER = \"RESULTS\"\n",
    "tStart = \"2019-01-01\"\n",
    "tEnd = \"2019-12-31\"\n",
    "\n",
    "### Conversion des périodes en UTCDateTime\n",
    "periods = [[UTCDateTime(tStart), UTCDateTime(tEnd)]]"
   ]
  },
  {
   "cell_type": "markdown",
   "metadata": {},
   "source": [
    "### Récupération des PPSDs et du déplacement RMS"
   ]
  },
  {
   "cell_type": "code",
   "execution_count": 3,
   "metadata": {},
   "outputs": [],
   "source": [
    "st_name = np.loadtxt(st_file, dtype=str)\n",
    "# st_name = [\"G.CCD.00.HHZ\"]   # Station à étudier\n",
    "dRMS = {}\n",
    "for st_str in st_name:\n",
    "    try:\n",
    "        dataframe = pd.read_csv(\"{}/{}.csv\".format(DRMS_FOLDER, st_str), index_col=0)\n",
    "        dRMS[st_str] = dataframe\n",
    "    except:\n",
    "        pass\n",
    "st_name = list(dRMS.keys())"
   ]
  },
  {
   "cell_type": "code",
   "execution_count": 4,
   "metadata": {},
   "outputs": [
    {
     "data": {
      "text/plain": [
       "dict_keys(['G.CCD.00.BHZ'])"
      ]
     },
     "execution_count": 4,
     "metadata": {},
     "output_type": "execute_result"
    }
   ],
   "source": [
    "dRMS.keys()"
   ]
  },
  {
   "cell_type": "markdown",
   "metadata": {},
   "source": [
    "---\n",
    "# 2. Variations horaires du bruit"
   ]
  },
  {
   "cell_type": "markdown",
   "metadata": {},
   "source": [
    "## 2.1 Calcul de variations sur toute la période donnée"
   ]
  },
  {
   "cell_type": "markdown",
   "metadata": {},
   "source": [
    "#### Tags à afficher sur le graphique"
   ]
  },
  {
   "cell_type": "code",
   "execution_count": 5,
   "metadata": {},
   "outputs": [],
   "source": [
    "# à changer selon ce que l'on veut\n",
    "\n",
    "tags = [\n",
    "    (\"2019-03-17\", 6, \"Confinement 1\"),\n",
    "    (\"2019-05-11\", 6, \"Déconfinement\"),\n",
    "]"
   ]
  },
  {
   "cell_type": "code",
   "execution_count": 6,
   "metadata": {
    "tags": []
   },
   "outputs": [
    {
     "name": "stdout",
     "output_type": "stream",
     "text": [
      "1/1    G.CCD.00.BHZ\n"
     ]
    },
    {
     "data": {
      "text/plain": [
       "<Figure size 432x288 with 0 Axes>"
      ]
     },
     "metadata": {},
     "output_type": "display_data"
    }
   ],
   "source": [
    "### Calcul de la variation du bruit\n",
    "k = 1\n",
    "for st_str in st_name:\n",
    "    print(\"{}/{}    {}\".format(k, len(st_name), st_str))\n",
    "    for freq in dRMS[st_str].columns:\n",
    "\n",
    "        try:\n",
    "            noise = dRMS[st_str][freq]  # Série temporelle du bruit\n",
    "        except:\n",
    "            continue\n",
    "        t, h, noise_matrix = hourly_var(noise, periods)\n",
    "        grid = noise_matrix * 1e9  # Données en [nm]\n",
    "\n",
    "        ### Mise en graphique de la variation du bruit\n",
    "        plt.figure(figsize=(16, 8))\n",
    "        plt.pcolormesh(t, h+0.25, grid)\n",
    "        plt.clim(np.nanquantile(grid, 0.05), np.nanquantile(grid, 0.95))\n",
    "        plt.colorbar(label=\"Déplacement [nm]\")\n",
    "\n",
    "        ### Affichage des tags\n",
    "        for (date, hour, text) in tags:\n",
    "            # plt.scatter(np.datetime64(date), hour, zorder=50, s=40, color=\"red\", edgecolors=\"white\")\n",
    "            plt.axvline(np.datetime64(date), zorder=50, color=\"white\", ls=\"-\")\n",
    "            plt.text(np.datetime64(date)-8, 0.75, text, color=\"white\", fontsize=\"medium\", rotation=90)   # Confinement 1\n",
    "\n",
    "        ### Configuration de l'axe vertical\n",
    "        plt.ylabel(\"Heure locale\")\n",
    "        y_ticks = [\"%ih\" % j for j in range(1, 24)]\n",
    "        y_loc = [j for j in range(1, 24)]\n",
    "        plt.yticks(y_loc, y_ticks)\n",
    "        plt.title(\"{} - [{}] Hz\".format(st_str, freq))\n",
    "        folder_path = FIG_FOLDER + \"/ant_hourly_variations/\" + st_str\n",
    "\n",
    "        if not os.path.exists(folder_path): os.makedirs(folder_path)\n",
    "        plt.savefig(\"{}/hourly_temporal_{}.png\".format(folder_path, freq), dpi=150)\n",
    "        plt.close()\n",
    "        plt.clf()\n",
    "        \n",
    "    k += 1"
   ]
  },
  {
   "cell_type": "markdown",
   "metadata": {},
   "source": [
    "## 2.2 Calcul de variations horaires sur plusieurs sous-périodes"
   ]
  },
  {
   "cell_type": "code",
   "execution_count": 12,
   "metadata": {},
   "outputs": [
    {
     "name": "stdout",
     "output_type": "stream",
     "text": [
      "{'G.CCD.00.BHZ':                          4.0-14.0  20.0-50.0\n",
      "2010-02-01 07:00:01  1.128134e-07        0.0\n",
      "2010-02-01 07:30:01  1.245853e-07        0.0\n",
      "2010-02-01 08:00:01  1.237054e-07        0.0\n",
      "2010-02-01 08:30:01  1.128019e-07        0.0\n",
      "2010-02-01 09:00:01  1.195153e-07        0.0\n",
      "...                           ...        ...\n",
      "2020-12-01 21:30:00  7.780741e-08        0.0\n",
      "2020-12-01 22:00:00  8.809303e-08        0.0\n",
      "2020-12-01 22:30:00  8.181057e-08        0.0\n",
      "2020-12-01 23:00:00  7.616163e-08        0.0\n",
      "2020-12-01 23:30:00  8.799641e-08        0.0\n",
      "\n",
      "[188924 rows x 2 columns]}\n"
     ]
    }
   ],
   "source": [
    "print(dRMS)"
   ]
  },
  {
   "cell_type": "code",
   "execution_count": 13,
   "metadata": {},
   "outputs": [
    {
     "data": {
      "image/png": "[encoded data removed]",
      "text/plain": [
       "<Figure size 1008x360 with 1 Axes>"
      ]
     },
     "metadata": {
      "needs_background": "light"
     },
     "output_type": "display_data"
    }
   ],
   "source": [
    "### Paramètres à changer\n",
    "freq = \"4.0-14.0\"\n",
    "st_name = \"G.CCD.00.BHZ\"\n",
    "periods = [[UTCDateTime(\"2019-11-01\"),UTCDateTime(\"2019-11-30\")]]\n",
    "###\n",
    "\n",
    "name = \"{}{}_{}\".format(st_name, periods[0][0].strftime('%Y-%m-%d'), periods[0][1].strftime('%Y-%m-%d'))\n",
    "noise = dRMS[st_name][freq]\n",
    "t, h, noise_matrix = hourly_var(noise, periods)\n",
    "#print(t,h,noise_matrix)\n",
    "\n",
    "median1 = np.nanmedian(noise_matrix, axis=1)\n",
    "new_median1 = median1.tolist()[6:] + median1.tolist()[0:6]\n",
    "\n",
    "freq = \"4.0-14.0\"\n",
    "st_name = \"G.CCD.00.BHZ\"\n",
    "periods = [[UTCDateTime(\"2020-11-01\"),UTCDateTime(\"2020-11-30\")]]\n",
    "###\n",
    "\n",
    "name = \"{}{}_{}\".format(st_name, periods[0][0].strftime('%Y-%m-%d'), periods[0][1].strftime('%Y-%m-%d'))\n",
    "noise = dRMS[st_name][freq]\n",
    "t, h, noise_matrix = hourly_var(noise, periods)\n",
    "#print(t,h,noise_matrix)\n",
    "\n",
    "median2 = np.nanmedian(noise_matrix, axis=1)\n",
    "new_median2 = median2.tolist()[6:] + median2.tolist()[0:6]\n",
    "\n",
    "\n",
    "\n",
    "\n",
    "plt.rcParams['figure.figsize'] = 14, 5\n",
    "plt.title('Median hourly displacement comparison')\n",
    "plt.xlabel('Hours')\n",
    "plt.ylabel('Displacement (m)' )\n",
    "plt.plot(h,new_median1,label='No lockdown',color='black')\n",
    "plt.plot(h,new_median2,label='2nd lockdown',color='red')\n",
    "#plt.plot(test,test2,color='r', linewidth=2.5,label='Lunch break')\n",
    "#plt.plot(test3,test2,color='r', linewidth=2.5,linestyle=\"--\",label='')\n",
    "plt.xticks(np.arange(0, 24, 1), np.arange(0, 24, 1))\n",
    "plt.grid()\n",
    "plt.legend(fontsize=15)\n",
    "plt.savefig('Median_hourly_displacement.png')\n",
    "plt.show()"
   ]
  },
  {
   "cell_type": "markdown",
   "metadata": {},
   "source": [
    "# Version France Flavien (pas fonctionnel)"
   ]
  },
  {
   "cell_type": "code",
   "execution_count": null,
   "metadata": {},
   "outputs": [],
   "source": [
    "subperiods = [\n",
    "    [\"2010-01-01\", \"2010-05-31\", \"début\", \"red\"],\n",
    "    [\"2010-06-01\", \"2010-12-31\", \"début\", \"blue\"],\n",
    "    [\"2011-01-01\", \"2011-12-31\", \"début\", \"green\"]\n",
    "]"
   ]
  },
  {
   "cell_type": "code",
   "execution_count": null,
   "metadata": {},
   "outputs": [],
   "source": [
    "k = 1\n",
    "\n",
    "for st_str in st_name:\n",
    "    print(\"{}/{}    {}\".format(k, len(st_name), st_str))\n",
    "    for freq in dRMS[st_str].columns:\n",
    "\n",
    "        try:\n",
    "            noise = dRMS[st_str][freq]  # Série temporelle du bruit\n",
    "        except:\n",
    "            continue\n",
    "\n",
    "        t, h, noise_matrix = hourly_var(noise, periods)\n",
    "        grid = noise_matrix * 1e9  # Données en [nm]\n",
    "        \n",
    "        # h = np.append(h[8:], h[:8])\n",
    "\n",
    "        ### Calcul du bruit pour que sous-période\n",
    "        plt.figure(figsize=(12, 6))\n",
    "        for i, value in enumerate(subperiods):\n",
    "            time1 = np.datetime64(subperiods[i][0])\n",
    "            time2 = np.datetime64(subperiods[i][1])\n",
    "            print(time1,time2)\n",
    "            color = subperiods[i][3]\n",
    "            label = \"{} to {} : {}\".format(subperiods[i][0], subperiods[i][1], subperiods[i][2])\n",
    "            k1 = np.where(t == time1)[0][0]\n",
    "            k2 = np.where(t == time2)[0][0]\n",
    "            \n",
    "\n",
    "            median = np.nanmedian(grid[:,k1:k2], axis=1)\n",
    "            median = np.append(median[8:], median[:8])\n",
    "            \n",
    "            #if subperiods[i][2]==\"No lockdown\": plt.plot(h, median, label=label, color=color, lw=2, ls=\"--\")\n",
    "            plt.plot(h, median, label=label, color=color, lw=2)\n",
    "\n",
    "        ### Mise en graphique\n",
    "        plt.tick_params(direction=\"in\", which=\"both\", top=True, right=True)\n",
    "        plt.title(\"{} - [{}] Hz\".format(st_str,freq))\n",
    "        plt.grid(color=\"#D5D5D5\", linestyle='--', linewidth=1)\n",
    "        # plt.ylabel(\"Median displacement [nm]\")\n",
    "        plt.xlim([0, 23.5])\n",
    "        h_tick = np.append(np.arange(4, 23, 2), np.arange(0, 4, 2))\n",
    "        h_label = [\"4h\",\"6h\",\"8h\",\"10h\",\"12h\",\"14h\",\"16h\",\"18h\",\"20h\",\"22h\", \"0h\", \"2h\"]\n",
    "        plt.xticks(np.arange(0, 23, 2), h_label)\n",
    "        # plt.xticks(np.arange(0, 23, 2), [\"0h\",\"2h\",\"4h\",\"6h\",\"8h\",\"10h\",\"12h\",\"14h\",\"16h\",\"18h\",\"20h\",\"22h\"])\n",
    "\n",
    "        plt.legend(loc=\"upper left\",   # Position of legend\n",
    "                   borderaxespad=0.2,    # Small spacing around legend box\n",
    "                   bbox_to_anchor=(-0.1, -0.1),\n",
    "                   ncol=3)\n",
    "\n",
    "        plt.tight_layout()\n",
    "\n",
    "        folder_path = FIG_FOLDER + \"/ant_hourly_variations/\" + st_str\n",
    "\n",
    "        if not os.path.exists(folder_path): os.makedirs(folder_path)\n",
    "\n",
    "        plt.savefig(\"{}/hourly_periods_{}.png\".format(folder_path, freq), dpi=150)\n",
    "        plt.close()\n",
    "        plt.clf()\n",
    "\n",
    "    k += 1"
   ]
  },
  {
   "cell_type": "code",
   "execution_count": null,
   "metadata": {},
   "outputs": [],
   "source": []
  }
 ],
 "metadata": {
  "celltoolbar": "Format de la Cellule Texte Brut",
  "kernelspec": {
   "display_name": "Python 3",
   "language": "python",
   "name": "python3"
  },
  "language_info": {
   "codemirror_mode": {
    "name": "ipython",
    "version": 3
   },
   "file_extension": ".py",
   "mimetype": "text/x-python",
   "name": "python",
   "nbconvert_exporter": "python",
   "pygments_lexer": "ipython3",
   "version": "3.7.9"
  }
 },
 "nbformat": 4,
 "nbformat_minor": 4
}
