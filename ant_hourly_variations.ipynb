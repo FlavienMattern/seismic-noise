{
 "cells": [
  {
   "cell_type": "markdown",
   "metadata": {},
   "source": [
    "\n",
    "\n",
    "# VARIATIONS TEMPORELLES DU BRUIT EN ANTARCTIQUE"
   ]
  },
  {
   "cell_type": "markdown",
   "metadata": {},
   "source": [
    "---\n",
    "\n",
    "**Description du Notebook :**\n",
    "> Dans ce notebook est étudié comment le bruit sismique à évolué avec les différentes mesures sanitaires mises en place par le gouvernement.\n"
   ]
  },
  {
   "cell_type": "markdown",
   "metadata": {},
   "source": [
    "---\n",
    "# Importation des modules"
   ]
  },
  {
   "cell_type": "code",
   "execution_count": 2,
   "metadata": {},
   "outputs": [],
   "source": [
    "%matplotlib inline\n",
    "\n",
    "import datetime\n",
    "import os\n",
    "from glob import glob\n",
    "\n",
    "import matplotlib.pyplot as plt\n",
    "import matplotlib.ticker as ticker\n",
    "import matplotlib.patheffects as pe\n",
    "from mpl_toolkits.axes_grid1 import make_axes_locatable\n",
    "import numpy as np\n",
    "import pandas as pd\n",
    "import tqdm.notebook as tqdm\n",
    "import warnings\n",
    "\n",
    "from obspy import UTCDateTime, read\n",
    "from obspy.clients.fdsn import Client\n",
    "from obspy.clients.fdsn.client import FDSNNoDataException\n",
    "from obspy.signal import PPSD\n",
    "\n",
    "%load_ext autoreload\n",
    "%autoreload 2\n",
    "from seismic_noise import *\n",
    "import seismosocialdistancing"
   ]
  },
  {
   "cell_type": "markdown",
   "metadata": {},
   "source": [
    "---\n",
    "# 1. Récupération des données"
   ]
  },
  {
   "cell_type": "markdown",
   "metadata": {},
   "source": [
    "### Paramètres initiaux"
   ]
  },
  {
   "cell_type": "code",
   "execution_count": 4,
   "metadata": {},
   "outputs": [],
   "source": [
    "### Paramètres généraux\n",
    "load_data = False              # Recalculer les PPSDs et le déplacement RMS\n",
    "# freqs = [(4.0,14.0)]          # Bandes de fréquences à étudier \n",
    "st_file = \"DATA/st_metadata/stations_antarctic.txt\"  # Fichier de stations\n",
    "noise_input_data = \"B:/SeismicNoiseData/\"\n",
    "timeseries_data = \"Files/noise_timeseries/\"\n",
    "PPSD_FOLDER  = \"C:/Users/Arnaud/Desktop/Travail/Projet de Recherche/SeismicNoiseData/PPSD\"\n",
    "DRMS_FOLDER  = \"C:/Users/Arnaud/Desktop/Travail/Projet de Recherche/SeismicNoiseData/DRMS\"\n",
    "MSEED_FOLDER = \"C:/Users/Arnaud/Desktop/Travail/Projet de Recherche/SeismicNoiseData/MSEED\"\n",
    "FIG_FOLDER = \"RESULTS\"\n",
    "tStart = \"2010-01-01\"\n",
    "tEnd = \"2011-12-31\"\n",
    "\n",
    "### Conversion des périodes en UTCDateTime\n",
    "periods = [[UTCDateTime(tStart), UTCDateTime(tEnd)]]"
   ]
  },
  {
   "cell_type": "markdown",
   "metadata": {},
   "source": [
    "### Récupération des PPSDs et du déplacement RMS"
   ]
  },
  {
   "cell_type": "code",
   "execution_count": 5,
   "metadata": {},
   "outputs": [],
   "source": [
    "st_name = np.loadtxt(st_file, dtype=str)\n",
    "# st_name = [\"G.CCD.00.HHZ\"]   # Station à étudier\n",
    "dRMS = {}\n",
    "for st_str in st_name:\n",
    "    try:\n",
    "        dataframe = pd.read_csv(\"{}/{}.csv\".format(DRMS_FOLDER, st_str), index_col=0)\n",
    "        dRMS[st_str] = dataframe\n",
    "    except:\n",
    "        pass\n",
    "st_name = list(dRMS.keys())"
   ]
  },
  {
   "cell_type": "code",
   "execution_count": 6,
   "metadata": {},
   "outputs": [
    {
     "data": {
      "text/plain": [
       "dict_keys(['G.CCD.00.BHZ'])"
      ]
     },
     "execution_count": 6,
     "metadata": {},
     "output_type": "execute_result"
    }
   ],
   "source": [
    "dRMS.keys()"
   ]
  },
  {
   "cell_type": "markdown",
   "metadata": {},
   "source": [
    "---\n",
    "# 2. Variations horaires du bruit"
   ]
  },
  {
   "cell_type": "markdown",
   "metadata": {},
   "source": [
    "## 2.1 Calcul de variations sur toute la période donnée"
   ]
  },
  {
   "cell_type": "markdown",
   "metadata": {},
   "source": [
    "#### Tags à afficher sur le graphique"
   ]
  },
  {
   "cell_type": "code",
   "execution_count": 7,
   "metadata": {},
   "outputs": [],
   "source": [
    "# à changer selon ce que l'on veut\n",
    "\n",
    "tags = [\n",
    "    (\"2020-03-17\", 6, \"Confinement 1\"),\n",
    "    (\"2020-05-11\", 6, \"Déconfinement\"),\n",
    "    (\"2020-10-30\", 6, \"Confinement 2\"),\n",
    "    (\"2020-12-15\", 20, \"Déconfinement + Couvre-feu 20h\"),\n",
    "    (\"2021-01-10\", 18, \"Couvre feu à 18h\"),\n",
    "    (\"2021-04-03\", 6, \"Confinement 3\"),\n",
    "    (\"2021-05-03\", 6, \"Déconfinement\"),\n",
    "    (\"2021-06-09\", 23, \"Couvre feu à 23h\"),\n",
    "    (\"2021-06-30\", 6, \"Fin du couvre feu\")\n",
    "]"
   ]
  },
  {
   "cell_type": "code",
   "execution_count": 8,
   "metadata": {
    "tags": []
   },
   "outputs": [
    {
     "name": "stdout",
     "output_type": "stream",
     "text": [
      "1/1    G.CCD.00.BHZ\n"
     ]
    },
    {
     "data": {
      "text/plain": [
       "<Figure size 432x288 with 0 Axes>"
      ]
     },
     "metadata": {},
     "output_type": "display_data"
    }
   ],
   "source": [
    "### Calcul de la variation du bruit\n",
    "k = 1\n",
    "for st_str in st_name:\n",
    "    print(\"{}/{}    {}\".format(k, len(st_name), st_str))\n",
    "    for freq in dRMS[st_str].columns:\n",
    "\n",
    "        try:\n",
    "            noise = dRMS[st_str][freq]  # Série temporelle du bruit\n",
    "        except:\n",
    "            continue\n",
    "        t, h, noise_matrix = hourly_var(noise, periods)\n",
    "        grid = noise_matrix * 1e9  # Données en [nm]\n",
    "\n",
    "        ### Mise en graphique de la variation du bruit\n",
    "        plt.figure(figsize=(16, 8))\n",
    "        plt.pcolormesh(t, h+0.25, grid)\n",
    "        plt.clim(np.nanquantile(grid, 0.05), np.nanquantile(grid, 0.95))\n",
    "        plt.colorbar(label=\"Déplacement [nm]\")\n",
    "\n",
    "        ### Affichage des tags\n",
    "        for (date, hour, text) in tags:\n",
    "            # plt.scatter(np.datetime64(date), hour, zorder=50, s=40, color=\"red\", edgecolors=\"white\")\n",
    "            plt.axvline(np.datetime64(date), zorder=50, color=\"white\", ls=\"-\")\n",
    "            plt.text(np.datetime64(date)-8, 0.75, text, color=\"white\", fontsize=\"medium\", rotation=90)   # Confinement 1\n",
    "\n",
    "        ### Configuration de l'axe vertical\n",
    "        plt.ylabel(\"Heure locale\")\n",
    "        y_ticks = [\"%ih\" % j for j in range(1, 24)]\n",
    "        y_loc = [j for j in range(1, 24)]\n",
    "        plt.yticks(y_loc, y_ticks)\n",
    "        plt.title(\"{} - [{}] Hz\".format(st_str, freq))\n",
    "        folder_path = FIG_FOLDER + \"/fr_hourly_variations/\" + st_str\n",
    "\n",
    "        if not os.path.exists(folder_path): os.makedirs(folder_path)\n",
    "        plt.savefig(\"{}/hourly_temporal_{}.png\".format(folder_path, freq), dpi=150)\n",
    "        plt.close()\n",
    "        plt.clf()\n",
    "        \n",
    "    k += 1"
   ]
  },
  {
   "cell_type": "markdown",
   "metadata": {},
   "source": [
    "## 2.2 Calcul de variations horaires sur plusieurs sous-périodes"
   ]
  },
  {
   "cell_type": "code",
   "execution_count": 7,
   "metadata": {},
   "outputs": [],
   "source": [
    "subperiods = [\n",
    "    [\"2020-10-01\", \"2020-10-20\", \"No lockdown\", \"#8F8F8F\"],\n",
    "    [\"2020-03-18\", \"2020-05-10\", \"Lockdown 1\", \"#3D80B0\"],\n",
    "    [\"2020-11-01\", \"2020-12-10\", \"Lockdown 2\", \"#C53F2C\"],\n",
    "    [\"2020-12-10\", \"2020-12-31\", \"Christmas + Curfew 20h-6h\", \"#299739\"],\n",
    "    [\"2021-01-16\", \"2021-02-16\", \"Curfew 18h-6h\", \"#902F8C\"],\n",
    "    [\"2021-04-03\", \"2021-05-03\", \"Lockdown 3\", \"#E59B1A\"],\n",
    "    [\"2021-05-03\", \"2021-06-09\", \"Crufew 19h\", \"green\"],\n",
    "    [\"2021-06-09\", \"2021-06-30\", \"Crufew 23h\", \"blue\"],\n",
    "    [\"2021-06-30\", \"2021-07-31\", \"No curfew\", \"red\"]\n",
    "]"
   ]
  },
  {
   "cell_type": "code",
   "execution_count": 21,
   "metadata": {},
   "outputs": [
    {
     "name": "stdout",
     "output_type": "stream",
     "text": [
      "1/130    FR.ABJF.00.HHZ\n",
      "2/130    FR.AGO.00.HHZ\n",
      "3/130    FR.AJAC.00.HHZ\n",
      "4/130    FR.ARBF.00.HHZ\n",
      "5/130    FR.ARTF.00.HHZ\n",
      "6/130    FR.ATE.00.HHZ\n",
      "7/130    FR.BALS.00.HHZ\n",
      "8/130    FR.BANN.00.HHZ\n",
      "9/130    FR.BARI.00.HHZ\n",
      "10/130    FR.BEGF.00.HHZ\n",
      "11/130    FR.BLAF.00.HHZ\n",
      "12/130    FR.BOUC.00.HHZ\n",
      "13/130    FR.BSTF.00.HHZ\n",
      "14/130    FR.CALF.00.HHZ\n",
      "15/130    FR.CAMF.00.HHZ\n",
      "16/130    FR.CARF.00.HHZ\n",
      "17/130    FR.CFF.00.HHZ\n",
      "18/130    FR.CHIF.00.HHZ\n",
      "19/130    FR.CHMF.00.HHZ\n",
      "20/130    FR.CIEL.00.HHZ\n",
      "21/130    FR.CLAF.00.HHZ\n",
      "22/130    FR.CLF.00.HHZ\n",
      "23/130    FR.CLMF.00.HHZ\n",
      "24/130    FR.COLF.00.HHZ\n",
      "25/130    FR.CRAS.00.HHZ\n",
      "26/130    FR.CRNF.00.HHZ\n",
      "27/130    FR.CURIE.00.HHZ\n",
      "28/130    FR.DOU.00.HHZ\n",
      "29/130    FR.DUNF.00.HHZ\n",
      "30/130    FR.EILF.00.HHZ\n",
      "31/130    FR.ENAUX.00.HHZ\n",
      "32/130    FR.ESCA.01.HHZ\n",
      "33/130    FR.FAHY.00.HHZ\n",
      "34/130    FR.FILF.00.HHZ\n",
      "35/130    FR.FNEB.00.HHZ\n",
      "36/130    FR.FOURG.00.HHZ\n",
      "37/130    FR.FRNF.00.HHZ\n",
      "38/130    FR.GENF.00.HHZ\n",
      "39/130    FR.GIZF.00.HHZ\n",
      "40/130    FR.GRN.00.HHZ\n",
      "41/130    FR.GUEF.00.HHZ\n",
      "42/130    FR.HOHE.00.HHZ\n",
      "43/130    FR.ILLF.00.HHZ\n",
      "44/130    FR.IRAF.00.HHZ\n",
      "45/130    FR.ISO.00.HHZ\n",
      "46/130    FR.LABF.00.HHZ\n",
      "47/130    FR.LAJAS.00.HHZ\n",
      "48/130    FR.LATF.00.HHZ\n",
      "49/130    FR.LBL.00.HHZ\n",
      "50/130    FR.LEMB.00.HHZ\n",
      "51/130    FR.LEUC.00.HHZ\n",
      "52/130    FR.LOCF.00.HHZ\n",
      "53/130    FR.LOUF.00.HHZ\n",
      "54/130    FR.LRVF.00.HHZ\n",
      "55/130    FR.MANO.00.HHZ\n",
      "56/130    FR.MELF.00.HHZ\n",
      "57/130    FR.MLS.00.HHZ\n",
      "58/130    FR.MLYF.00.HHZ\n",
      "59/130    FR.MLZA.00.HHZ\n",
      "60/130    FR.MON.00.HHZ\n",
      "61/130    FR.MONQ.00.HHZ\n",
      "62/130    FR.MORSI.00.HHZ\n",
      "63/130    FR.MTNF.00.HHZ\n",
      "64/130    FR.MVIF.00.HHZ\n",
      "65/130    FR.NEEW.00.HHZ\n",
      "66/130    FR.NEUF.00.HHZ\n",
      "67/130    FR.OG02.00.HHZ\n",
      "68/130    FR.OG35.00.HHZ\n",
      "69/130    FR.OGAG.00.HHZ\n",
      "70/130    FR.OGCB.00.HHZ\n",
      "71/130    FR.OGCC.00.HHZ\n",
      "72/130    FR.OGCN.00.HHZ\n",
      "73/130    FR.OGDF.00.HHZ\n",
      "74/130    FR.OGDI.00.HHZ\n",
      "75/130    FR.OGLC.00.HHZ\n",
      "76/130    FR.OGMO.00.HHZ\n",
      "77/130    FR.OGMY.00.HHZ\n",
      "78/130    FR.OGRV.00.HHZ\n",
      "79/130    FR.OGS1.00.HHZ\n",
      "80/130    FR.OGS2.00.HHZ\n",
      "81/130    FR.OGS3.00.HHZ\n",
      "82/130    FR.OGSA.00.HHZ\n",
      "83/130    FR.OGSI.00.HHZ\n",
      "84/130    FR.OGSM.00.HHZ\n",
      "85/130    FR.OGVG.00.HHZ\n",
      "86/130    FR.OLIV.00.HHZ\n",
      "87/130    FR.ORDF.00.HHZ\n",
      "88/130    FR.OSSF.00.HHZ\n",
      "89/130    FR.PAND.00.HHZ\n",
      "90/130    FR.PIAF.00.HHZ\n",
      "91/130    FR.PLDF.00.HHZ\n",
      "92/130    FR.PLEF.00.HHZ\n",
      "93/130    FR.PLOF.00.HHZ\n",
      "94/130    FR.PLYF.00.HHZ\n",
      "95/130    FR.PYLO.00.HHZ\n",
      "96/130    FR.RESF.00.HHZ\n",
      "97/130    FR.REYF.00.HHZ\n",
      "98/130    FR.RIVEL.00.HHZ\n",
      "99/130    FR.RONF.00.HHZ\n",
      "100/130    FR.RSL.00.HHZ\n",
      "101/130    FR.RUFF.00.HHZ\n",
      "102/130    FR.RUSF.01.HHZ\n",
      "103/130    FR.SALF.00.HHZ\n",
      "104/130    FR.SALSA.00.HHZ\n",
      "105/130    FR.SAOF.00.HHZ\n",
      "106/130    FR.SAUF.00.HHZ\n",
      "107/130    FR.SDOF.00.HHZ\n",
      "108/130    FR.SJAF.00.HHZ\n",
      "109/130    FR.SLVF.00.HHZ\n",
      "110/130    FR.SMPL.00.HHZ\n",
      "111/130    FR.SOMF.00.HHZ\n",
      "112/130    FR.SPIF.00.HHZ\n",
      "113/130    FR.STR.00.HHZ\n",
      "114/130    FR.SURF.00.HHZ\n",
      "115/130    FR.SZBH.02.HHZ\n",
      "116/130    FR.TERF.00.HHZ\n",
      "117/130    FR.TRBF.00.HHZ\n",
      "118/130    FR.TRIGF.00.HHZ\n",
      "119/130    FR.TSDF.00.HHZ\n",
      "120/130    FR.TURF.00.HHZ\n",
      "121/130    FR.URDF.00.HHZ\n",
      "122/130    FR.VALC.00.HHZ\n",
      "123/130    FR.VERF.00.HHZ\n",
      "124/130    FR.VIEF.00.HHZ\n",
      "125/130    FR.VOEL.00.HHZ\n",
      "126/130    FR.WALT.00.HHZ\n",
      "127/130    FR.WLS.00.HHZ\n",
      "128/130    FR.XAFF.00.HHZ\n",
      "129/130    FR.ZELS.00.HHZ\n",
      "130/130    G.FDFM.00.HHZ\n"
     ]
    },
    {
     "data": {
      "text/plain": [
       "<Figure size 432x288 with 0 Axes>"
      ]
     },
     "metadata": {},
     "output_type": "display_data"
    }
   ],
   "source": [
    "k = 1\n",
    "\n",
    "for st_str in st_name:\n",
    "    print(\"{}/{}    {}\".format(k, len(st_name), st_str))\n",
    "    for freq in dRMS[st_str].columns:\n",
    "\n",
    "        try:\n",
    "            noise = dRMS[st_str][freq]  # Série temporelle du bruit\n",
    "        except:\n",
    "            continue\n",
    "\n",
    "        t, h, noise_matrix = hourly_var(noise, periods)\n",
    "        grid = noise_matrix * 1e9  # Données en [nm]\n",
    "        \n",
    "        # h = np.append(h[8:], h[:8])\n",
    "\n",
    "        ### Calcul du bruit pour que sous-période\n",
    "        plt.figure(figsize=(12, 6))\n",
    "        for i, value in enumerate(subperiods):\n",
    "            time1 = np.datetime64(subperiods[i][0])\n",
    "            time2 = np.datetime64(subperiods[i][1])\n",
    "            color = subperiods[i][3]\n",
    "            label = \"{} to {} : {}\".format(subperiods[i][0], subperiods[i][1], subperiods[i][2])\n",
    "            k1 = np.where(t == time1)[0][0]\n",
    "            k2 = np.where(t == time2)[0][0]\n",
    "\n",
    "            median = np.nanmedian(grid[:,k1:k2], axis=1)\n",
    "            median = np.append(median[8:], median[:8])\n",
    "            \n",
    "            if subperiods[i][2]==\"No lockdown\": plt.plot(h, median, label=label, color=color, lw=2, ls=\"--\")\n",
    "            else: plt.plot(h, median, label=label, color=color, lw=2)\n",
    "\n",
    "        ### Mise en graphique\n",
    "        plt.tick_params(direction=\"in\", which=\"both\", top=True, right=True)\n",
    "        plt.title(\"{} - [{}] Hz\".format(st_str,freq))\n",
    "        plt.grid(color=\"#D5D5D5\", linestyle='--', linewidth=1)\n",
    "        # plt.ylabel(\"Median displacement [nm]\")\n",
    "        plt.xlim([0, 23.5])\n",
    "        h_tick = np.append(np.arange(4, 23, 2), np.arange(0, 4, 2))\n",
    "        h_label = [\"4h\",\"6h\",\"8h\",\"10h\",\"12h\",\"14h\",\"16h\",\"18h\",\"20h\",\"22h\", \"0h\", \"2h\"]\n",
    "        plt.xticks(np.arange(0, 23, 2), h_label)\n",
    "        # plt.xticks(np.arange(0, 23, 2), [\"0h\",\"2h\",\"4h\",\"6h\",\"8h\",\"10h\",\"12h\",\"14h\",\"16h\",\"18h\",\"20h\",\"22h\"])\n",
    "\n",
    "        plt.legend(loc=\"upper left\",   # Position of legend\n",
    "                   borderaxespad=0.2,    # Small spacing around legend box\n",
    "                   bbox_to_anchor=(-0.1, -0.1),\n",
    "                   ncol=3)\n",
    "\n",
    "        plt.tight_layout()\n",
    "\n",
    "        folder_path = FIG_FOLDER + \"/fr_hourly_variations/\" + st_str\n",
    "\n",
    "        if not os.path.exists(folder_path): os.makedirs(folder_path)\n",
    "\n",
    "        plt.savefig(\"{}/hourly_periods_{}.png\".format(folder_path, freq), dpi=150)\n",
    "        plt.close()\n",
    "        plt.clf()\n",
    "\n",
    "    k += 1"
   ]
  }
 ],
 "metadata": {
  "celltoolbar": "Format de la Cellule Texte Brut",
  "kernelspec": {
   "display_name": "Python 3",
   "language": "python",
   "name": "python3"
  },
  "language_info": {
   "codemirror_mode": {
    "name": "ipython",
    "version": 3
   },
   "file_extension": ".py",
   "mimetype": "text/x-python",
   "name": "python",
   "nbconvert_exporter": "python",
   "pygments_lexer": "ipython3",
   "version": "3.7.9"
  }
 },
 "nbformat": 4,
 "nbformat_minor": 4
}
