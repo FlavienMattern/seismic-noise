{
 "cells": [
  {
   "cell_type": "markdown",
   "id": "856fe024-7fbd-4027-bef6-d84b2237fddd",
   "metadata": {},
   "source": [
    "# Récupération des données de mobilité humaines de Apple"
   ]
  },
  {
   "cell_type": "markdown",
   "id": "72a6300c-2d73-4ac1-8a69-1d8e5a7deaea",
   "metadata": {},
   "source": [
    "> Ce Notebook présente les données de mobilités humaines depuis le début de la pandémie.\n",
    "\n",
    "> Les données de mobilités humaines sont fournies par Apple et accessibles à l'adresse suivante : https://covid19.apple.com/mobility. Les données de mobilités commencent à partir du **13 Janvier 2020**. La référence (0%) est faite sur la valeur médiane des données du **13 Janvier 2020**."
   ]
  },
  {
   "cell_type": "markdown",
   "id": "42c92e15-6af0-4919-b4af-9c05ee4d0e86",
   "metadata": {},
   "source": [
    "## Importation des modules"
   ]
  },
  {
   "cell_type": "code",
   "execution_count": 1,
   "id": "c7f4dada-675c-4341-8b42-def458b73548",
   "metadata": {},
   "outputs": [],
   "source": [
    "import matplotlib.pyplot as plt\n",
    "import numpy as np\n",
    "from math import *\n",
    "from seismic_noise import *\n",
    "import pandas as pd\n",
    "import urllib.request\n",
    "import json"
   ]
  },
  {
   "cell_type": "markdown",
   "id": "dcfe1635-9922-4645-b487-9818c4a01b19",
   "metadata": {},
   "source": [
    "## Paramètres initiaux"
   ]
  },
  {
   "cell_type": "code",
   "execution_count": 2,
   "id": "37931995-d285-4191-a3fa-dcba5caf025b",
   "metadata": {},
   "outputs": [],
   "source": [
    "data_path = \"DATA/apple_mobility\""
   ]
  },
  {
   "cell_type": "markdown",
   "id": "21e2814f-0c06-483b-83fe-fc3fda21c429",
   "metadata": {},
   "source": [
    "## Récupération des données de mobilité"
   ]
  },
  {
   "cell_type": "markdown",
   "id": "c0a47cc7-43c5-491f-8274-766cc6e3566a",
   "metadata": {},
   "source": [
    "Récupération des données au moyen de la fonction `load_apple_mobility()` située dans le module `seismic_noise` à la racine du répertoire."
   ]
  },
  {
   "cell_type": "code",
   "execution_count": 3,
   "id": "eccedcb0-8b9a-4b13-8974-3421fc4d33d4",
   "metadata": {},
   "outputs": [
    {
     "ename": "NameError",
     "evalue": "name 'urllib' is not defined",
     "output_type": "error",
     "traceback": [
      "\u001b[0;31m---------------------------------------------------------------------------\u001b[0m",
      "\u001b[0;31mNameError\u001b[0m                                 Traceback (most recent call last)",
      "\u001b[0;32m<ipython-input-3-55b3fa60541f>\u001b[0m in \u001b[0;36m<module>\u001b[0;34m\u001b[0m\n\u001b[1;32m     12\u001b[0m \u001b[0;34m\u001b[0m\u001b[0m\n\u001b[1;32m     13\u001b[0m \u001b[0;31m# Téléchargement des données\u001b[0m\u001b[0;34m\u001b[0m\u001b[0;34m\u001b[0m\u001b[0;34m\u001b[0m\u001b[0m\n\u001b[0;32m---> 14\u001b[0;31m \u001b[0mdata\u001b[0m \u001b[0;34m=\u001b[0m \u001b[0mload_apple_mobility\u001b[0m\u001b[0;34m(\u001b[0m\u001b[0mdownload_data\u001b[0m\u001b[0;34m=\u001b[0m\u001b[0;32mTrue\u001b[0m\u001b[0;34m)\u001b[0m\u001b[0;34m\u001b[0m\u001b[0;34m\u001b[0m\u001b[0m\n\u001b[0m",
      "\u001b[0;32m/media/flavien/Développement/seismic-noise/seismic_noise.py\u001b[0m in \u001b[0;36mload_apple_mobility\u001b[0;34m(data_path, json_url, download_data, country, data_type)\u001b[0m\n\u001b[1;32m    101\u001b[0m     \u001b[0;31m# Téléchargement des données\u001b[0m\u001b[0;34m\u001b[0m\u001b[0;34m\u001b[0m\u001b[0;34m\u001b[0m\u001b[0m\n\u001b[1;32m    102\u001b[0m     \u001b[0;32mif\u001b[0m \u001b[0mdownload_data\u001b[0m\u001b[0;34m:\u001b[0m\u001b[0;34m\u001b[0m\u001b[0;34m\u001b[0m\u001b[0m\n\u001b[0;32m--> 103\u001b[0;31m         \u001b[0;32mwith\u001b[0m \u001b[0murllib\u001b[0m\u001b[0;34m.\u001b[0m\u001b[0mrequest\u001b[0m\u001b[0;34m.\u001b[0m\u001b[0murlopen\u001b[0m\u001b[0;34m(\u001b[0m\u001b[0mjson_url\u001b[0m\u001b[0;34m)\u001b[0m \u001b[0;32mas\u001b[0m \u001b[0murl\u001b[0m\u001b[0;34m:\u001b[0m\u001b[0;34m\u001b[0m\u001b[0;34m\u001b[0m\u001b[0m\n\u001b[0m\u001b[1;32m    104\u001b[0m             \u001b[0mjson_data\u001b[0m \u001b[0;34m=\u001b[0m \u001b[0mjson\u001b[0m\u001b[0;34m.\u001b[0m\u001b[0mloads\u001b[0m\u001b[0;34m(\u001b[0m\u001b[0murl\u001b[0m\u001b[0;34m.\u001b[0m\u001b[0mread\u001b[0m\u001b[0;34m(\u001b[0m\u001b[0;34m)\u001b[0m\u001b[0;34m.\u001b[0m\u001b[0mdecode\u001b[0m\u001b[0;34m(\u001b[0m\u001b[0;34m)\u001b[0m\u001b[0;34m)\u001b[0m\u001b[0;34m\u001b[0m\u001b[0;34m\u001b[0m\u001b[0m\n\u001b[1;32m    105\u001b[0m         \u001b[0mdata_url\u001b[0m \u001b[0;34m=\u001b[0m \u001b[0;34m\"https://covid19-static.cdn-apple.com\"\u001b[0m \u001b[0;34m+\u001b[0m \u001b[0mjson_data\u001b[0m\u001b[0;34m[\u001b[0m\u001b[0;34m'basePath'\u001b[0m\u001b[0;34m]\u001b[0m \u001b[0;34m+\u001b[0m \u001b[0mjson_data\u001b[0m\u001b[0;34m[\u001b[0m\u001b[0;34m'regions'\u001b[0m\u001b[0;34m]\u001b[0m\u001b[0;34m[\u001b[0m\u001b[0;34m'en-us'\u001b[0m\u001b[0;34m]\u001b[0m\u001b[0;34m[\u001b[0m\u001b[0;34m'csvPath'\u001b[0m\u001b[0;34m]\u001b[0m\u001b[0;34m\u001b[0m\u001b[0;34m\u001b[0m\u001b[0m\n",
      "\u001b[0;31mNameError\u001b[0m: name 'urllib' is not defined"
     ]
    }
   ],
   "source": [
    "# Création et préparation des dossiers\n",
    "if os.path.isdir(data_path):\n",
    "    if os.path.isfile(data_path + \"/apple_mobility.csv\"):\n",
    "        filelist = [ f for f in os.listdir(data_path) ]\n",
    "        for f in filelist:\n",
    "            try:\n",
    "                os.remove(os.path.join(data_path, f))\n",
    "            except:\n",
    "                pass\n",
    "else:\n",
    "    os.makedirs(data_path)\n",
    "    \n",
    "# Téléchargement des données\n",
    "data = load_apple_mobility(download_data=True)"
   ]
  },
  {
   "cell_type": "markdown",
   "id": "47072e02-1d63-4523-9075-9a9fd745b4ef",
   "metadata": {},
   "source": [
    "#### Récupération des données sur la France entière"
   ]
  },
  {
   "cell_type": "code",
   "execution_count": null,
   "id": "0577d3ab-f1e1-4eca-bf28-441952a276dd",
   "metadata": {},
   "outputs": [],
   "source": [
    "data_country = load_apple_mobility(data_type = \"country\")\n",
    "data_country"
   ]
  },
  {
   "cell_type": "markdown",
   "id": "bf7a6a9e-b2e6-4229-b91e-462ce7cc60b6",
   "metadata": {},
   "source": [
    "#### Récupération des données par région"
   ]
  },
  {
   "cell_type": "code",
   "execution_count": null,
   "id": "26d77d4d-6d4f-4508-b944-b7c8095cf6ab",
   "metadata": {},
   "outputs": [],
   "source": [
    "data_region = load_apple_mobility(data_type = \"region\")\n",
    "data_region"
   ]
  },
  {
   "cell_type": "markdown",
   "id": "524837d5-c8bc-42c9-baee-38206a3b3a5b",
   "metadata": {},
   "source": [
    "#### Récupération des données par ville"
   ]
  },
  {
   "cell_type": "code",
   "execution_count": null,
   "id": "01b6cfea-6f29-4dc6-99c5-653620ecb398",
   "metadata": {},
   "outputs": [],
   "source": [
    "data_city = load_apple_mobility(data_type = \"city\")\n",
    "data_city"
   ]
  },
  {
   "cell_type": "markdown",
   "id": "1a323c69-6899-4231-84e0-fd0837ff7f20",
   "metadata": {},
   "source": [
    "## Affichage des données sur la France entière"
   ]
  },
  {
   "cell_type": "code",
   "execution_count": null,
   "id": "edfb7089-a027-4d68-a496-83ae24b819ae",
   "metadata": {},
   "outputs": [],
   "source": []
  }
 ],
 "metadata": {
  "kernelspec": {
   "display_name": "Python 3",
   "language": "python",
   "name": "python3"
  },
  "language_info": {
   "codemirror_mode": {
    "name": "ipython",
    "version": 3
   },
   "file_extension": ".py",
   "mimetype": "text/x-python",
   "name": "python",
   "nbconvert_exporter": "python",
   "pygments_lexer": "ipython3",
   "version": "3.9.5"
  }
 },
 "nbformat": 4,
 "nbformat_minor": 5
}
